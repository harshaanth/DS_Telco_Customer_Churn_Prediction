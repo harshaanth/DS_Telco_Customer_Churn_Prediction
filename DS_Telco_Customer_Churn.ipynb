{
  "nbformat": 4,
  "nbformat_minor": 0,
  "metadata": {
    "colab": {
      "provenance": [],
      "include_colab_link": true
    },
    "kernelspec": {
      "name": "python3",
      "display_name": "Python 3"
    },
    "language_info": {
      "name": "python"
    }
  },
  "cells": [
    {
      "cell_type": "markdown",
      "metadata": {
        "id": "view-in-github",
        "colab_type": "text"
      },
      "source": [
        "<a href=\"https://colab.research.google.com/github/harshaanth/Telco_Customer_Churn_Prediction/blob/main/DS_Telco_Customer_Churn.ipynb\" target=\"_parent\"><img src=\"https://colab.research.google.com/assets/colab-badge.svg\" alt=\"Open In Colab\"/></a>"
      ]
    },
    {
      "cell_type": "markdown",
      "source": [
        "# Case 1: Telco Customer Churn\n",
        "\"Predict behavior to retain customers. You can analyze all relevant customer data and develop focused customer retention programs.\" [IBM Sample Data Sets](\n",
        "https://community.ibm.com/community/user/businessanalytics/blogs/steven-macko/2019/07/11/telco-customer-churn-1113)"
      ],
      "metadata": {
        "id": "XIxlRv8Fiehq"
      }
    },
    {
      "cell_type": "markdown",
      "source": [
        "### Import the data\n",
        "The URL is a Google Drive link set to allow anyone with the link to view. This is a useful block of code to keep nearby. The only piece that changes is the value of the \"orig_url\"."
      ],
      "metadata": {
        "id": "1e5zJZ95kkG8"
      }
    },
    {
      "cell_type": "code",
      "execution_count": null,
      "metadata": {
        "id": "FFX8XwQaiT9G",
        "colab": {
          "base_uri": "https://localhost:8080/",
          "height": 342
        },
        "outputId": "0c53b255-1f62-4eee-a2f2-7838c1f644f6"
      },
      "outputs": [
        {
          "output_type": "execute_result",
          "data": {
            "text/plain": [
              "   Account_Length  Vmail_Message  Day_Mins  Eve_Mins  Night_Mins  Intl_Mins  \\\n",
              "0             128             25     265.1     197.4       244.7       10.0   \n",
              "1             107             26     161.6     195.5       254.4       13.7   \n",
              "2             137              0     243.4     121.2       162.6       12.2   \n",
              "3              84              0     299.4      61.9       196.9        6.6   \n",
              "4              75              0     166.7     148.3       186.9       10.1   \n",
              "\n",
              "   CustServ_Calls Churn Intl_Plan Vmail_Plan  ...  Day_Charge  Eve_Calls  \\\n",
              "0               1    no        no        yes  ...       45.07         99   \n",
              "1               1    no        no        yes  ...       27.47        103   \n",
              "2               0    no        no         no  ...       41.38        110   \n",
              "3               2    no       yes         no  ...       50.90         88   \n",
              "4               3    no       yes         no  ...       28.34        122   \n",
              "\n",
              "   Eve_Charge  Night_Calls  Night_Charge  Intl_Calls  Intl_Charge  State  \\\n",
              "0       16.78           91         11.01           3         2.70     KS   \n",
              "1       16.62          103         11.45           3         3.70     OH   \n",
              "2       10.30          104          7.32           5         3.29     NJ   \n",
              "3        5.26           89          8.86           7         1.78     OH   \n",
              "4       12.61          121          8.41           3         2.73     OK   \n",
              "\n",
              "  Area_Code     Phone  \n",
              "0       415  382-4657  \n",
              "1       415  371-7191  \n",
              "2       415  358-1921  \n",
              "3       408  375-9999  \n",
              "4       415  330-6626  \n",
              "\n",
              "[5 rows x 21 columns]"
            ],
            "text/html": [
              "\n",
              "  <div id=\"df-61079bd0-390a-4936-8e5d-7b0fad67d58b\" class=\"colab-df-container\">\n",
              "    <div>\n",
              "<style scoped>\n",
              "    .dataframe tbody tr th:only-of-type {\n",
              "        vertical-align: middle;\n",
              "    }\n",
              "\n",
              "    .dataframe tbody tr th {\n",
              "        vertical-align: top;\n",
              "    }\n",
              "\n",
              "    .dataframe thead th {\n",
              "        text-align: right;\n",
              "    }\n",
              "</style>\n",
              "<table border=\"1\" class=\"dataframe\">\n",
              "  <thead>\n",
              "    <tr style=\"text-align: right;\">\n",
              "      <th></th>\n",
              "      <th>Account_Length</th>\n",
              "      <th>Vmail_Message</th>\n",
              "      <th>Day_Mins</th>\n",
              "      <th>Eve_Mins</th>\n",
              "      <th>Night_Mins</th>\n",
              "      <th>Intl_Mins</th>\n",
              "      <th>CustServ_Calls</th>\n",
              "      <th>Churn</th>\n",
              "      <th>Intl_Plan</th>\n",
              "      <th>Vmail_Plan</th>\n",
              "      <th>...</th>\n",
              "      <th>Day_Charge</th>\n",
              "      <th>Eve_Calls</th>\n",
              "      <th>Eve_Charge</th>\n",
              "      <th>Night_Calls</th>\n",
              "      <th>Night_Charge</th>\n",
              "      <th>Intl_Calls</th>\n",
              "      <th>Intl_Charge</th>\n",
              "      <th>State</th>\n",
              "      <th>Area_Code</th>\n",
              "      <th>Phone</th>\n",
              "    </tr>\n",
              "  </thead>\n",
              "  <tbody>\n",
              "    <tr>\n",
              "      <th>0</th>\n",
              "      <td>128</td>\n",
              "      <td>25</td>\n",
              "      <td>265.1</td>\n",
              "      <td>197.4</td>\n",
              "      <td>244.7</td>\n",
              "      <td>10.0</td>\n",
              "      <td>1</td>\n",
              "      <td>no</td>\n",
              "      <td>no</td>\n",
              "      <td>yes</td>\n",
              "      <td>...</td>\n",
              "      <td>45.07</td>\n",
              "      <td>99</td>\n",
              "      <td>16.78</td>\n",
              "      <td>91</td>\n",
              "      <td>11.01</td>\n",
              "      <td>3</td>\n",
              "      <td>2.70</td>\n",
              "      <td>KS</td>\n",
              "      <td>415</td>\n",
              "      <td>382-4657</td>\n",
              "    </tr>\n",
              "    <tr>\n",
              "      <th>1</th>\n",
              "      <td>107</td>\n",
              "      <td>26</td>\n",
              "      <td>161.6</td>\n",
              "      <td>195.5</td>\n",
              "      <td>254.4</td>\n",
              "      <td>13.7</td>\n",
              "      <td>1</td>\n",
              "      <td>no</td>\n",
              "      <td>no</td>\n",
              "      <td>yes</td>\n",
              "      <td>...</td>\n",
              "      <td>27.47</td>\n",
              "      <td>103</td>\n",
              "      <td>16.62</td>\n",
              "      <td>103</td>\n",
              "      <td>11.45</td>\n",
              "      <td>3</td>\n",
              "      <td>3.70</td>\n",
              "      <td>OH</td>\n",
              "      <td>415</td>\n",
              "      <td>371-7191</td>\n",
              "    </tr>\n",
              "    <tr>\n",
              "      <th>2</th>\n",
              "      <td>137</td>\n",
              "      <td>0</td>\n",
              "      <td>243.4</td>\n",
              "      <td>121.2</td>\n",
              "      <td>162.6</td>\n",
              "      <td>12.2</td>\n",
              "      <td>0</td>\n",
              "      <td>no</td>\n",
              "      <td>no</td>\n",
              "      <td>no</td>\n",
              "      <td>...</td>\n",
              "      <td>41.38</td>\n",
              "      <td>110</td>\n",
              "      <td>10.30</td>\n",
              "      <td>104</td>\n",
              "      <td>7.32</td>\n",
              "      <td>5</td>\n",
              "      <td>3.29</td>\n",
              "      <td>NJ</td>\n",
              "      <td>415</td>\n",
              "      <td>358-1921</td>\n",
              "    </tr>\n",
              "    <tr>\n",
              "      <th>3</th>\n",
              "      <td>84</td>\n",
              "      <td>0</td>\n",
              "      <td>299.4</td>\n",
              "      <td>61.9</td>\n",
              "      <td>196.9</td>\n",
              "      <td>6.6</td>\n",
              "      <td>2</td>\n",
              "      <td>no</td>\n",
              "      <td>yes</td>\n",
              "      <td>no</td>\n",
              "      <td>...</td>\n",
              "      <td>50.90</td>\n",
              "      <td>88</td>\n",
              "      <td>5.26</td>\n",
              "      <td>89</td>\n",
              "      <td>8.86</td>\n",
              "      <td>7</td>\n",
              "      <td>1.78</td>\n",
              "      <td>OH</td>\n",
              "      <td>408</td>\n",
              "      <td>375-9999</td>\n",
              "    </tr>\n",
              "    <tr>\n",
              "      <th>4</th>\n",
              "      <td>75</td>\n",
              "      <td>0</td>\n",
              "      <td>166.7</td>\n",
              "      <td>148.3</td>\n",
              "      <td>186.9</td>\n",
              "      <td>10.1</td>\n",
              "      <td>3</td>\n",
              "      <td>no</td>\n",
              "      <td>yes</td>\n",
              "      <td>no</td>\n",
              "      <td>...</td>\n",
              "      <td>28.34</td>\n",
              "      <td>122</td>\n",
              "      <td>12.61</td>\n",
              "      <td>121</td>\n",
              "      <td>8.41</td>\n",
              "      <td>3</td>\n",
              "      <td>2.73</td>\n",
              "      <td>OK</td>\n",
              "      <td>415</td>\n",
              "      <td>330-6626</td>\n",
              "    </tr>\n",
              "  </tbody>\n",
              "</table>\n",
              "<p>5 rows × 21 columns</p>\n",
              "</div>\n",
              "    <div class=\"colab-df-buttons\">\n",
              "\n",
              "  <div class=\"colab-df-container\">\n",
              "    <button class=\"colab-df-convert\" onclick=\"convertToInteractive('df-61079bd0-390a-4936-8e5d-7b0fad67d58b')\"\n",
              "            title=\"Convert this dataframe to an interactive table.\"\n",
              "            style=\"display:none;\">\n",
              "\n",
              "  <svg xmlns=\"http://www.w3.org/2000/svg\" height=\"24px\" viewBox=\"0 -960 960 960\">\n",
              "    <path d=\"M120-120v-720h720v720H120Zm60-500h600v-160H180v160Zm220 220h160v-160H400v160Zm0 220h160v-160H400v160ZM180-400h160v-160H180v160Zm440 0h160v-160H620v160ZM180-180h160v-160H180v160Zm440 0h160v-160H620v160Z\"/>\n",
              "  </svg>\n",
              "    </button>\n",
              "\n",
              "  <style>\n",
              "    .colab-df-container {\n",
              "      display:flex;\n",
              "      gap: 12px;\n",
              "    }\n",
              "\n",
              "    .colab-df-convert {\n",
              "      background-color: #E8F0FE;\n",
              "      border: none;\n",
              "      border-radius: 50%;\n",
              "      cursor: pointer;\n",
              "      display: none;\n",
              "      fill: #1967D2;\n",
              "      height: 32px;\n",
              "      padding: 0 0 0 0;\n",
              "      width: 32px;\n",
              "    }\n",
              "\n",
              "    .colab-df-convert:hover {\n",
              "      background-color: #E2EBFA;\n",
              "      box-shadow: 0px 1px 2px rgba(60, 64, 67, 0.3), 0px 1px 3px 1px rgba(60, 64, 67, 0.15);\n",
              "      fill: #174EA6;\n",
              "    }\n",
              "\n",
              "    .colab-df-buttons div {\n",
              "      margin-bottom: 4px;\n",
              "    }\n",
              "\n",
              "    [theme=dark] .colab-df-convert {\n",
              "      background-color: #3B4455;\n",
              "      fill: #D2E3FC;\n",
              "    }\n",
              "\n",
              "    [theme=dark] .colab-df-convert:hover {\n",
              "      background-color: #434B5C;\n",
              "      box-shadow: 0px 1px 3px 1px rgba(0, 0, 0, 0.15);\n",
              "      filter: drop-shadow(0px 1px 2px rgba(0, 0, 0, 0.3));\n",
              "      fill: #FFFFFF;\n",
              "    }\n",
              "  </style>\n",
              "\n",
              "    <script>\n",
              "      const buttonEl =\n",
              "        document.querySelector('#df-61079bd0-390a-4936-8e5d-7b0fad67d58b button.colab-df-convert');\n",
              "      buttonEl.style.display =\n",
              "        google.colab.kernel.accessAllowed ? 'block' : 'none';\n",
              "\n",
              "      async function convertToInteractive(key) {\n",
              "        const element = document.querySelector('#df-61079bd0-390a-4936-8e5d-7b0fad67d58b');\n",
              "        const dataTable =\n",
              "          await google.colab.kernel.invokeFunction('convertToInteractive',\n",
              "                                                    [key], {});\n",
              "        if (!dataTable) return;\n",
              "\n",
              "        const docLinkHtml = 'Like what you see? Visit the ' +\n",
              "          '<a target=\"_blank\" href=https://colab.research.google.com/notebooks/data_table.ipynb>data table notebook</a>'\n",
              "          + ' to learn more about interactive tables.';\n",
              "        element.innerHTML = '';\n",
              "        dataTable['output_type'] = 'display_data';\n",
              "        await google.colab.output.renderOutput(dataTable, element);\n",
              "        const docLink = document.createElement('div');\n",
              "        docLink.innerHTML = docLinkHtml;\n",
              "        element.appendChild(docLink);\n",
              "      }\n",
              "    </script>\n",
              "  </div>\n",
              "\n",
              "\n",
              "<div id=\"df-54664f16-ccdc-4b63-896d-195a12b9e2e4\">\n",
              "  <button class=\"colab-df-quickchart\" onclick=\"quickchart('df-54664f16-ccdc-4b63-896d-195a12b9e2e4')\"\n",
              "            title=\"Suggest charts\"\n",
              "            style=\"display:none;\">\n",
              "\n",
              "<svg xmlns=\"http://www.w3.org/2000/svg\" height=\"24px\"viewBox=\"0 0 24 24\"\n",
              "     width=\"24px\">\n",
              "    <g>\n",
              "        <path d=\"M19 3H5c-1.1 0-2 .9-2 2v14c0 1.1.9 2 2 2h14c1.1 0 2-.9 2-2V5c0-1.1-.9-2-2-2zM9 17H7v-7h2v7zm4 0h-2V7h2v10zm4 0h-2v-4h2v4z\"/>\n",
              "    </g>\n",
              "</svg>\n",
              "  </button>\n",
              "\n",
              "<style>\n",
              "  .colab-df-quickchart {\n",
              "      --bg-color: #E8F0FE;\n",
              "      --fill-color: #1967D2;\n",
              "      --hover-bg-color: #E2EBFA;\n",
              "      --hover-fill-color: #174EA6;\n",
              "      --disabled-fill-color: #AAA;\n",
              "      --disabled-bg-color: #DDD;\n",
              "  }\n",
              "\n",
              "  [theme=dark] .colab-df-quickchart {\n",
              "      --bg-color: #3B4455;\n",
              "      --fill-color: #D2E3FC;\n",
              "      --hover-bg-color: #434B5C;\n",
              "      --hover-fill-color: #FFFFFF;\n",
              "      --disabled-bg-color: #3B4455;\n",
              "      --disabled-fill-color: #666;\n",
              "  }\n",
              "\n",
              "  .colab-df-quickchart {\n",
              "    background-color: var(--bg-color);\n",
              "    border: none;\n",
              "    border-radius: 50%;\n",
              "    cursor: pointer;\n",
              "    display: none;\n",
              "    fill: var(--fill-color);\n",
              "    height: 32px;\n",
              "    padding: 0;\n",
              "    width: 32px;\n",
              "  }\n",
              "\n",
              "  .colab-df-quickchart:hover {\n",
              "    background-color: var(--hover-bg-color);\n",
              "    box-shadow: 0 1px 2px rgba(60, 64, 67, 0.3), 0 1px 3px 1px rgba(60, 64, 67, 0.15);\n",
              "    fill: var(--button-hover-fill-color);\n",
              "  }\n",
              "\n",
              "  .colab-df-quickchart-complete:disabled,\n",
              "  .colab-df-quickchart-complete:disabled:hover {\n",
              "    background-color: var(--disabled-bg-color);\n",
              "    fill: var(--disabled-fill-color);\n",
              "    box-shadow: none;\n",
              "  }\n",
              "\n",
              "  .colab-df-spinner {\n",
              "    border: 2px solid var(--fill-color);\n",
              "    border-color: transparent;\n",
              "    border-bottom-color: var(--fill-color);\n",
              "    animation:\n",
              "      spin 1s steps(1) infinite;\n",
              "  }\n",
              "\n",
              "  @keyframes spin {\n",
              "    0% {\n",
              "      border-color: transparent;\n",
              "      border-bottom-color: var(--fill-color);\n",
              "      border-left-color: var(--fill-color);\n",
              "    }\n",
              "    20% {\n",
              "      border-color: transparent;\n",
              "      border-left-color: var(--fill-color);\n",
              "      border-top-color: var(--fill-color);\n",
              "    }\n",
              "    30% {\n",
              "      border-color: transparent;\n",
              "      border-left-color: var(--fill-color);\n",
              "      border-top-color: var(--fill-color);\n",
              "      border-right-color: var(--fill-color);\n",
              "    }\n",
              "    40% {\n",
              "      border-color: transparent;\n",
              "      border-right-color: var(--fill-color);\n",
              "      border-top-color: var(--fill-color);\n",
              "    }\n",
              "    60% {\n",
              "      border-color: transparent;\n",
              "      border-right-color: var(--fill-color);\n",
              "    }\n",
              "    80% {\n",
              "      border-color: transparent;\n",
              "      border-right-color: var(--fill-color);\n",
              "      border-bottom-color: var(--fill-color);\n",
              "    }\n",
              "    90% {\n",
              "      border-color: transparent;\n",
              "      border-bottom-color: var(--fill-color);\n",
              "    }\n",
              "  }\n",
              "</style>\n",
              "\n",
              "  <script>\n",
              "    async function quickchart(key) {\n",
              "      const quickchartButtonEl =\n",
              "        document.querySelector('#' + key + ' button');\n",
              "      quickchartButtonEl.disabled = true;  // To prevent multiple clicks.\n",
              "      quickchartButtonEl.classList.add('colab-df-spinner');\n",
              "      try {\n",
              "        const charts = await google.colab.kernel.invokeFunction(\n",
              "            'suggestCharts', [key], {});\n",
              "      } catch (error) {\n",
              "        console.error('Error during call to suggestCharts:', error);\n",
              "      }\n",
              "      quickchartButtonEl.classList.remove('colab-df-spinner');\n",
              "      quickchartButtonEl.classList.add('colab-df-quickchart-complete');\n",
              "    }\n",
              "    (() => {\n",
              "      let quickchartButtonEl =\n",
              "        document.querySelector('#df-54664f16-ccdc-4b63-896d-195a12b9e2e4 button');\n",
              "      quickchartButtonEl.style.display =\n",
              "        google.colab.kernel.accessAllowed ? 'block' : 'none';\n",
              "    })();\n",
              "  </script>\n",
              "</div>\n",
              "    </div>\n",
              "  </div>\n"
            ],
            "application/vnd.google.colaboratory.intrinsic+json": {
              "type": "dataframe",
              "variable_name": "telco"
            }
          },
          "metadata": {},
          "execution_count": 1
        }
      ],
      "source": [
        "import pandas as pd\n",
        "import requests\n",
        "from io import StringIO\n",
        "\n",
        "orig_url=\"https://drive.google.com/file/d/18e7X8-KyzlX6K1P8sujnVDVtERgsWD9P/view?usp=sharing\"\n",
        "\n",
        "file_id = orig_url.split('/')[-2]\n",
        "dwn_url='https://drive.google.com/uc?export=download&id=' + file_id\n",
        "url = requests.get(dwn_url).text\n",
        "\n",
        "csv_raw = StringIO(url)\n",
        "telco = pd.read_csv(csv_raw)\n",
        "telco.head()"
      ]
    },
    {
      "cell_type": "markdown",
      "source": [
        "### Import libraries"
      ],
      "metadata": {
        "id": "7igBDXxQkm8P"
      }
    },
    {
      "cell_type": "code",
      "source": [
        "import numpy as np # array operations\n",
        "import pandas as pd # data processing\n",
        "import matplotlib.pyplot as plt # visuals\n",
        "import seaborn as sns # visuals\n",
        "import warnings\n",
        "warnings.filterwarnings(\"ignore\") # suppress warnings for readability"
      ],
      "metadata": {
        "id": "KOdcBPv1j2a6"
      },
      "execution_count": null,
      "outputs": []
    },
    {
      "cell_type": "markdown",
      "source": [
        "### 1. Data Exploration"
      ],
      "metadata": {
        "id": "p8g4ZpAVk9xc"
      }
    },
    {
      "cell_type": "markdown",
      "source": [
        "#### 1.a. Determine the shape of the data."
      ],
      "metadata": {
        "id": "zfWjzKKMDbuh"
      }
    },
    {
      "cell_type": "code",
      "source": [
        "# find the shape of the telco data set.\n",
        "telco.shape"
      ],
      "metadata": {
        "id": "j0YhX1ZSlB14",
        "colab": {
          "base_uri": "https://localhost:8080/"
        },
        "outputId": "6f41d3e0-b20c-4f92-86b7-b4abc9d52f95"
      },
      "execution_count": null,
      "outputs": [
        {
          "output_type": "execute_result",
          "data": {
            "text/plain": [
              "(3333, 21)"
            ]
          },
          "metadata": {},
          "execution_count": 3
        }
      ]
    },
    {
      "cell_type": "markdown",
      "source": [
        "#### 1.b. What do the numbers ```(3333, 21)``` tell you?\n",
        "There are 3333 rows and 21 columns in the data set."
      ],
      "metadata": {
        "id": "NMCjFWKSwVkU"
      }
    },
    {
      "cell_type": "markdown",
      "source": [
        "#### 1.c. Deterimine whether or not there are any missing values."
      ],
      "metadata": {
        "id": "wCkqc7deEgyP"
      }
    },
    {
      "cell_type": "code",
      "source": [
        "telco.isnull().sum()"
      ],
      "metadata": {
        "id": "wifbPklAuDaK",
        "colab": {
          "base_uri": "https://localhost:8080/"
        },
        "outputId": "07bf5e6e-b375-4ebe-972e-3eff21eb5901"
      },
      "execution_count": null,
      "outputs": [
        {
          "output_type": "execute_result",
          "data": {
            "text/plain": [
              "Account_Length    0\n",
              "Vmail_Message     0\n",
              "Day_Mins          0\n",
              "Eve_Mins          0\n",
              "Night_Mins        0\n",
              "Intl_Mins         0\n",
              "CustServ_Calls    0\n",
              "Churn             0\n",
              "Intl_Plan         0\n",
              "Vmail_Plan        0\n",
              "Day_Calls         0\n",
              "Day_Charge        0\n",
              "Eve_Calls         0\n",
              "Eve_Charge        0\n",
              "Night_Calls       0\n",
              "Night_Charge      0\n",
              "Intl_Calls        0\n",
              "Intl_Charge       0\n",
              "State             0\n",
              "Area_Code         0\n",
              "Phone             0\n",
              "dtype: int64"
            ]
          },
          "metadata": {},
          "execution_count": 4
        }
      ]
    },
    {
      "cell_type": "markdown",
      "source": [
        "#### 1.d. Determine the count of each of the Churn  (target variable) categories ('yes', 'no'). Use the ```value_counts()``` method."
      ],
      "metadata": {
        "id": "CQi6Wq2iE5Pq"
      }
    },
    {
      "cell_type": "code",
      "source": [
        "# separate churn\n",
        "telco['Churn'].value_counts()"
      ],
      "metadata": {
        "id": "idclPOoTuw_M",
        "colab": {
          "base_uri": "https://localhost:8080/"
        },
        "outputId": "3db79179-2e78-40e0-e25a-6bd6f8dbc8a5"
      },
      "execution_count": null,
      "outputs": [
        {
          "output_type": "execute_result",
          "data": {
            "text/plain": [
              "no     2850\n",
              "yes     483\n",
              "Name: Churn, dtype: int64"
            ]
          },
          "metadata": {},
          "execution_count": 5
        }
      ]
    },
    {
      "cell_type": "markdown",
      "source": [
        "#### 1.e. Create a histogram of the 'Account_Length'. Use the Seaborn distplot method."
      ],
      "metadata": {
        "id": "il3OiA_3FfUJ"
      }
    },
    {
      "cell_type": "code",
      "source": [
        "import matplotlib as plt\n",
        "import seaborn as sns\n",
        "sns.distplot(telco['Account_Length'])"
      ],
      "metadata": {
        "id": "J_MJIxBZvXgh",
        "colab": {
          "base_uri": "https://localhost:8080/",
          "height": 468
        },
        "outputId": "fb013113-acbe-4193-9ac4-e984325ab529"
      },
      "execution_count": null,
      "outputs": [
        {
          "output_type": "execute_result",
          "data": {
            "text/plain": [
              "<Axes: xlabel='Account_Length', ylabel='Density'>"
            ]
          },
          "metadata": {},
          "execution_count": 6
        },
        {
          "output_type": "display_data",
          "data": {
            "text/plain": [
              "<Figure size 640x480 with 1 Axes>"
            ],
            "image/png": "[encoded data removed]"
          },
          "metadata": {}
        }
      ]
    },
    {
      "cell_type": "markdown",
      "source": [
        "#### 1.f. Create a boxplot of the Account_Length by Churn status."
      ],
      "metadata": {
        "id": "PljI17WGFtm4"
      }
    },
    {
      "cell_type": "code",
      "source": [
        "sns.boxplot(x='Churn', y='Account_Length', data=telco)"
      ],
      "metadata": {
        "id": "C-KUdziOv4YJ",
        "colab": {
          "base_uri": "https://localhost:8080/",
          "height": 467
        },
        "outputId": "a79a4c0c-f9da-4432-a84c-3188c422d3ad"
      },
      "execution_count": null,
      "outputs": [
        {
          "output_type": "execute_result",
          "data": {
            "text/plain": [
              "<Axes: xlabel='Churn', ylabel='Account_Length'>"
            ]
          },
          "metadata": {},
          "execution_count": 7
        },
        {
          "output_type": "display_data",
          "data": {
            "text/plain": [
              "<Figure size 640x480 with 1 Axes>"
            ],
            "image/png": "[encoded data removed]"
          },
          "metadata": {}
        }
      ]
    },
    {
      "cell_type": "markdown",
      "source": [
        "### 1.g. Describe any patterns in Churn based on tenure.\n",
        "The patterns in account length don't differ based on churn status.\n",
        "\n",
        "\n",
        "\n",
        "\n",
        "\n",
        "\n",
        "\n",
        "\n",
        "\n",
        "\n",
        "\n",
        "\n"
      ],
      "metadata": {
        "id": "noppcRaawGuV"
      }
    },
    {
      "cell_type": "markdown",
      "source": [
        "### 2. Data Preprocessing"
      ],
      "metadata": {
        "id": "TJSPYVpalCVd"
      }
    },
    {
      "cell_type": "markdown",
      "source": [
        "#### 2.a. Determine the data types for all of the variables in the telco data set. Use the `dtypes` attribute."
      ],
      "metadata": {
        "id": "WPaqw1onGxp9"
      }
    },
    {
      "cell_type": "code",
      "source": [
        "telco.dtypes"
      ],
      "metadata": {
        "id": "hFhUhyw3wnx5",
        "colab": {
          "base_uri": "https://localhost:8080/"
        },
        "outputId": "8400d613-b114-4b2b-b573-6b9964ad67d7"
      },
      "execution_count": null,
      "outputs": [
        {
          "output_type": "execute_result",
          "data": {
            "text/plain": [
              "Account_Length      int64\n",
              "Vmail_Message       int64\n",
              "Day_Mins          float64\n",
              "Eve_Mins          float64\n",
              "Night_Mins        float64\n",
              "Intl_Mins         float64\n",
              "CustServ_Calls      int64\n",
              "Churn              object\n",
              "Intl_Plan          object\n",
              "Vmail_Plan         object\n",
              "Day_Calls           int64\n",
              "Day_Charge        float64\n",
              "Eve_Calls           int64\n",
              "Eve_Charge        float64\n",
              "Night_Calls         int64\n",
              "Night_Charge      float64\n",
              "Intl_Calls          int64\n",
              "Intl_Charge       float64\n",
              "State              object\n",
              "Area_Code           int64\n",
              "Phone              object\n",
              "dtype: object"
            ]
          },
          "metadata": {},
          "execution_count": 8
        }
      ]
    },
    {
      "cell_type": "markdown",
      "source": [
        "#### 2.b. Based on the results above, which 5 variables require modification before a model can be built from this data set?\n",
        "```\n",
        "Churn              object\n",
        "Intl_Plan          object\n",
        "Vmail_Plan         object\n",
        "State              object\n",
        "Phone              object\n",
        "```"
      ],
      "metadata": {
        "id": "oVOX9AVJHAvb"
      }
    },
    {
      "cell_type": "markdown",
      "source": [
        "What do the ```Churn``` values look like?"
      ],
      "metadata": {
        "id": "-DS1lOlcHa4B"
      }
    },
    {
      "cell_type": "code",
      "source": [
        "telco['Churn'].head()"
      ],
      "metadata": {
        "id": "D8WSuo8R5ace",
        "colab": {
          "base_uri": "https://localhost:8080/"
        },
        "outputId": "6ca8589e-ca7c-47e9-bc6e-776dd9eb888d"
      },
      "execution_count": null,
      "outputs": [
        {
          "output_type": "execute_result",
          "data": {
            "text/plain": [
              "0    no\n",
              "1    no\n",
              "2    no\n",
              "3    no\n",
              "4    no\n",
              "Name: Churn, dtype: object"
            ]
          },
          "metadata": {},
          "execution_count": 9
        }
      ]
    },
    {
      "cell_type": "markdown",
      "source": [
        "Replace all of the ```'no'``` values with 0 and all of the ```'yes'``` values with 1."
      ],
      "metadata": {
        "id": "C4vjlrLEHi7F"
      }
    },
    {
      "cell_type": "code",
      "source": [
        "telco['Churn']=telco['Churn'].replace({'no':0, 'yes':1})\n",
        "telco['Churn'].head()"
      ],
      "metadata": {
        "id": "LpZ5tXFH5fyW",
        "colab": {
          "base_uri": "https://localhost:8080/"
        },
        "outputId": "65828bd3-bcb1-4e3e-c958-68c1af5d7252"
      },
      "execution_count": null,
      "outputs": [
        {
          "output_type": "execute_result",
          "data": {
            "text/plain": [
              "0    0\n",
              "1    0\n",
              "2    0\n",
              "3    0\n",
              "4    0\n",
              "Name: Churn, dtype: int64"
            ]
          },
          "metadata": {},
          "execution_count": 37
        }
      ]
    },
    {
      "cell_type": "markdown",
      "source": [
        "What do the ```'Intl_Plan'``` values look like?"
      ],
      "metadata": {
        "id": "Q8zuMRBFHtYy"
      }
    },
    {
      "cell_type": "code",
      "source": [
        "telco['Intl_Plan'].head()"
      ],
      "metadata": {
        "id": "Wk88flLrwsBi",
        "colab": {
          "base_uri": "https://localhost:8080/"
        },
        "outputId": "2956daf7-e2be-43ad-fba4-cb04accbb5b4"
      },
      "execution_count": null,
      "outputs": [
        {
          "output_type": "execute_result",
          "data": {
            "text/plain": [
              "0     no\n",
              "1     no\n",
              "2     no\n",
              "3    yes\n",
              "4    yes\n",
              "Name: Intl_Plan, dtype: object"
            ]
          },
          "metadata": {},
          "execution_count": 38
        }
      ]
    },
    {
      "cell_type": "markdown",
      "source": [
        "Replace all of the ```'no'``` values with 0 and all of the ```'yes'``` values with 1."
      ],
      "metadata": {
        "id": "Oy7ZYdNOIC31"
      }
    },
    {
      "cell_type": "code",
      "source": [
        "telco['Intl_Plan']=telco['Intl_Plan'].replace({'no':0, 'yes':1})\n",
        "telco['Intl_Plan'].head()"
      ],
      "metadata": {
        "id": "DEE28txzxR93",
        "colab": {
          "base_uri": "https://localhost:8080/"
        },
        "outputId": "1875a1c2-40cb-48ae-e6a8-87c0906cf24c"
      },
      "execution_count": null,
      "outputs": [
        {
          "output_type": "execute_result",
          "data": {
            "text/plain": [
              "0    0\n",
              "1    0\n",
              "2    0\n",
              "3    1\n",
              "4    1\n",
              "Name: Intl_Plan, dtype: int64"
            ]
          },
          "metadata": {},
          "execution_count": 39
        }
      ]
    },
    {
      "cell_type": "markdown",
      "source": [
        "#### 2.c. What do the ```'Vmail_Plan'``` values look like?"
      ],
      "metadata": {
        "id": "mhBqMOQ7IKPo"
      }
    },
    {
      "cell_type": "code",
      "source": [
        "telco['Vmail_Plan'].head()"
      ],
      "metadata": {
        "id": "A9Qq0FHo3DiD",
        "colab": {
          "base_uri": "https://localhost:8080/"
        },
        "outputId": "307a412b-0e1b-4a5f-d627-dd94bb0e657e"
      },
      "execution_count": null,
      "outputs": [
        {
          "output_type": "execute_result",
          "data": {
            "text/plain": [
              "0    yes\n",
              "1    yes\n",
              "2     no\n",
              "3     no\n",
              "4     no\n",
              "Name: Vmail_Plan, dtype: object"
            ]
          },
          "metadata": {},
          "execution_count": 40
        }
      ]
    },
    {
      "cell_type": "markdown",
      "source": [
        "#### 2.d. Replace all of the ```'no'``` values with 0 and all of the ```'yes'``` values with 1 for the ```'Vmail_Plan'``` data."
      ],
      "metadata": {
        "id": "mf0poWrgIGr-"
      }
    },
    {
      "cell_type": "code",
      "source": [
        "telco['Vmail_Plan']=telco['Vmail_Plan'].replace({'no':0, 'yes':1})\n",
        "telco['Vmail_Plan'].head()"
      ],
      "metadata": {
        "id": "nDW5jh9d5ygQ",
        "colab": {
          "base_uri": "https://localhost:8080/"
        },
        "outputId": "9eeaf4b1-eb52-4979-cdfb-0d2d0b5ccd5f"
      },
      "execution_count": null,
      "outputs": [
        {
          "output_type": "execute_result",
          "data": {
            "text/plain": [
              "0    1\n",
              "1    1\n",
              "2    0\n",
              "3    0\n",
              "4    0\n",
              "Name: Vmail_Plan, dtype: int64"
            ]
          },
          "metadata": {},
          "execution_count": 41
        }
      ]
    },
    {
      "cell_type": "markdown",
      "source": [
        "Re-examine the data types of the telco data."
      ],
      "metadata": {
        "id": "urglzIqiIP-k"
      }
    },
    {
      "cell_type": "code",
      "source": [
        "telco.dtypes"
      ],
      "metadata": {
        "id": "YmAkf3Ek57ME",
        "colab": {
          "base_uri": "https://localhost:8080/"
        },
        "outputId": "ae1ddeab-e747-4dae-9651-c6d8dc07b7e5"
      },
      "execution_count": null,
      "outputs": [
        {
          "output_type": "execute_result",
          "data": {
            "text/plain": [
              "Account_Length      int64\n",
              "Vmail_Message       int64\n",
              "Day_Mins          float64\n",
              "Eve_Mins          float64\n",
              "Night_Mins        float64\n",
              "Intl_Mins         float64\n",
              "CustServ_Calls      int64\n",
              "Churn               int64\n",
              "Intl_Plan           int64\n",
              "Vmail_Plan          int64\n",
              "Day_Calls           int64\n",
              "Day_Charge        float64\n",
              "Eve_Calls           int64\n",
              "Eve_Charge        float64\n",
              "Night_Calls         int64\n",
              "Night_Charge      float64\n",
              "Intl_Calls          int64\n",
              "Intl_Charge       float64\n",
              "State              object\n",
              "Area_Code           int64\n",
              "Phone              object\n",
              "dtype: object"
            ]
          },
          "metadata": {},
          "execution_count": 42
        }
      ]
    },
    {
      "cell_type": "markdown",
      "source": [
        "What do the ```'State'``` values look like?"
      ],
      "metadata": {
        "id": "5ktTItQ_IqcI"
      }
    },
    {
      "cell_type": "code",
      "source": [
        "telco['State'].head()"
      ],
      "metadata": {
        "id": "ew-LHYxL6De-",
        "colab": {
          "base_uri": "https://localhost:8080/"
        },
        "outputId": "c1c45380-5c2a-432c-99be-48c1d6682a38"
      },
      "execution_count": null,
      "outputs": [
        {
          "output_type": "execute_result",
          "data": {
            "text/plain": [
              "0    KS\n",
              "1    OH\n",
              "2    NJ\n",
              "3    OH\n",
              "4    OK\n",
              "Name: State, dtype: object"
            ]
          },
          "metadata": {},
          "execution_count": 43
        }
      ]
    },
    {
      "cell_type": "markdown",
      "source": [
        "Use the Pandas ```get_dummies``` method to create a column of indicators for each state."
      ],
      "metadata": {
        "id": "2MTaccLcI3a2"
      }
    },
    {
      "cell_type": "code",
      "source": [
        "telco=pd.get_dummies(data=telco, columns=['State'], drop_first=True)\n",
        "telco"
      ],
      "metadata": {
        "id": "VyFyZfKz7epb",
        "colab": {
          "base_uri": "https://localhost:8080/",
          "height": 443
        },
        "outputId": "a2604a3e-135c-445f-a8db-a982c7d629d1"
      },
      "execution_count": null,
      "outputs": [
        {
          "output_type": "execute_result",
          "data": {
            "text/plain": [
              "      Account_Length  Vmail_Message  Day_Mins  Eve_Mins  Night_Mins  \\\n",
              "0                128             25     265.1     197.4       244.7   \n",
              "1                107             26     161.6     195.5       254.4   \n",
              "2                137              0     243.4     121.2       162.6   \n",
              "3                 84              0     299.4      61.9       196.9   \n",
              "4                 75              0     166.7     148.3       186.9   \n",
              "...              ...            ...       ...       ...         ...   \n",
              "3328             192             36     156.2     215.5       279.1   \n",
              "3329              68              0     231.1     153.4       191.3   \n",
              "3330              28              0     180.8     288.8       191.9   \n",
              "3331             184              0     213.8     159.6       139.2   \n",
              "3332              74             25     234.4     265.9       241.4   \n",
              "\n",
              "      Intl_Mins  CustServ_Calls Churn Intl_Plan Vmail_Plan  ...  State_SD  \\\n",
              "0          10.0               1    no        no        yes  ...         0   \n",
              "1          13.7               1    no        no        yes  ...         0   \n",
              "2          12.2               0    no        no         no  ...         0   \n",
              "3           6.6               2    no       yes         no  ...         0   \n",
              "4          10.1               3    no       yes         no  ...         0   \n",
              "...         ...             ...   ...       ...        ...  ...       ...   \n",
              "3328        9.9               2    no        no        yes  ...         0   \n",
              "3329        9.6               3    no        no         no  ...         0   \n",
              "3330       14.1               2    no        no         no  ...         0   \n",
              "3331        5.0               2    no       yes         no  ...         0   \n",
              "3332       13.7               0    no        no        yes  ...         0   \n",
              "\n",
              "      State_TN  State_TX  State_UT  State_VA  State_VT  State_WA  State_WI  \\\n",
              "0            0         0         0         0         0         0         0   \n",
              "1            0         0         0         0         0         0         0   \n",
              "2            0         0         0         0         0         0         0   \n",
              "3            0         0         0         0         0         0         0   \n",
              "4            0         0         0         0         0         0         0   \n",
              "...        ...       ...       ...       ...       ...       ...       ...   \n",
              "3328         0         0         0         0         0         0         0   \n",
              "3329         0         0         0         0         0         0         0   \n",
              "3330         0         0         0         0         0         0         0   \n",
              "3331         0         0         0         0         0         0         0   \n",
              "3332         1         0         0         0         0         0         0   \n",
              "\n",
              "      State_WV State_WY  \n",
              "0            0        0  \n",
              "1            0        0  \n",
              "2            0        0  \n",
              "3            0        0  \n",
              "4            0        0  \n",
              "...        ...      ...  \n",
              "3328         0        0  \n",
              "3329         1        0  \n",
              "3330         0        0  \n",
              "3331         0        0  \n",
              "3332         0        0  \n",
              "\n",
              "[3333 rows x 71 columns]"
            ],
            "text/html": [
              "\n",
              "  <div id=\"df-b85b19f1-aed8-4e6a-9116-f42b5ea5dffa\" class=\"colab-df-container\">\n",
              "    <div>\n",
              "<style scoped>\n",
              "    .dataframe tbody tr th:only-of-type {\n",
              "        vertical-align: middle;\n",
              "    }\n",
              "\n",
              "    .dataframe tbody tr th {\n",
              "        vertical-align: top;\n",
              "    }\n",
              "\n",
              "    .dataframe thead th {\n",
              "        text-align: right;\n",
              "    }\n",
              "</style>\n",
              "<table border=\"1\" class=\"dataframe\">\n",
              "  <thead>\n",
              "    <tr style=\"text-align: right;\">\n",
              "      <th></th>\n",
              "      <th>Account_Length</th>\n",
              "      <th>Vmail_Message</th>\n",
              "      <th>Day_Mins</th>\n",
              "      <th>Eve_Mins</th>\n",
              "      <th>Night_Mins</th>\n",
              "      <th>Intl_Mins</th>\n",
              "      <th>CustServ_Calls</th>\n",
              "      <th>Churn</th>\n",
              "      <th>Intl_Plan</th>\n",
              "      <th>Vmail_Plan</th>\n",
              "      <th>...</th>\n",
              "      <th>State_SD</th>\n",
              "      <th>State_TN</th>\n",
              "      <th>State_TX</th>\n",
              "      <th>State_UT</th>\n",
              "      <th>State_VA</th>\n",
              "      <th>State_VT</th>\n",
              "      <th>State_WA</th>\n",
              "      <th>State_WI</th>\n",
              "      <th>State_WV</th>\n",
              "      <th>State_WY</th>\n",
              "    </tr>\n",
              "  </thead>\n",
              "  <tbody>\n",
              "    <tr>\n",
              "      <th>0</th>\n",
              "      <td>128</td>\n",
              "      <td>25</td>\n",
              "      <td>265.1</td>\n",
              "      <td>197.4</td>\n",
              "      <td>244.7</td>\n",
              "      <td>10.0</td>\n",
              "      <td>1</td>\n",
              "      <td>no</td>\n",
              "      <td>no</td>\n",
              "      <td>yes</td>\n",
              "      <td>...</td>\n",
              "      <td>0</td>\n",
              "      <td>0</td>\n",
              "      <td>0</td>\n",
              "      <td>0</td>\n",
              "      <td>0</td>\n",
              "      <td>0</td>\n",
              "      <td>0</td>\n",
              "      <td>0</td>\n",
              "      <td>0</td>\n",
              "      <td>0</td>\n",
              "    </tr>\n",
              "    <tr>\n",
              "      <th>1</th>\n",
              "      <td>107</td>\n",
              "      <td>26</td>\n",
              "      <td>161.6</td>\n",
              "      <td>195.5</td>\n",
              "      <td>254.4</td>\n",
              "      <td>13.7</td>\n",
              "      <td>1</td>\n",
              "      <td>no</td>\n",
              "      <td>no</td>\n",
              "      <td>yes</td>\n",
              "      <td>...</td>\n",
              "      <td>0</td>\n",
              "      <td>0</td>\n",
              "      <td>0</td>\n",
              "      <td>0</td>\n",
              "      <td>0</td>\n",
              "      <td>0</td>\n",
              "      <td>0</td>\n",
              "      <td>0</td>\n",
              "      <td>0</td>\n",
              "      <td>0</td>\n",
              "    </tr>\n",
              "    <tr>\n",
              "      <th>2</th>\n",
              "      <td>137</td>\n",
              "      <td>0</td>\n",
              "      <td>243.4</td>\n",
              "      <td>121.2</td>\n",
              "      <td>162.6</td>\n",
              "      <td>12.2</td>\n",
              "      <td>0</td>\n",
              "      <td>no</td>\n",
              "      <td>no</td>\n",
              "      <td>no</td>\n",
              "      <td>...</td>\n",
              "      <td>0</td>\n",
              "      <td>0</td>\n",
              "      <td>0</td>\n",
              "      <td>0</td>\n",
              "      <td>0</td>\n",
              "      <td>0</td>\n",
              "      <td>0</td>\n",
              "      <td>0</td>\n",
              "      <td>0</td>\n",
              "      <td>0</td>\n",
              "    </tr>\n",
              "    <tr>\n",
              "      <th>3</th>\n",
              "      <td>84</td>\n",
              "      <td>0</td>\n",
              "      <td>299.4</td>\n",
              "      <td>61.9</td>\n",
              "      <td>196.9</td>\n",
              "      <td>6.6</td>\n",
              "      <td>2</td>\n",
              "      <td>no</td>\n",
              "      <td>yes</td>\n",
              "      <td>no</td>\n",
              "      <td>...</td>\n",
              "      <td>0</td>\n",
              "      <td>0</td>\n",
              "      <td>0</td>\n",
              "      <td>0</td>\n",
              "      <td>0</td>\n",
              "      <td>0</td>\n",
              "      <td>0</td>\n",
              "      <td>0</td>\n",
              "      <td>0</td>\n",
              "      <td>0</td>\n",
              "    </tr>\n",
              "    <tr>\n",
              "      <th>4</th>\n",
              "      <td>75</td>\n",
              "      <td>0</td>\n",
              "      <td>166.7</td>\n",
              "      <td>148.3</td>\n",
              "      <td>186.9</td>\n",
              "      <td>10.1</td>\n",
              "      <td>3</td>\n",
              "      <td>no</td>\n",
              "      <td>yes</td>\n",
              "      <td>no</td>\n",
              "      <td>...</td>\n",
              "      <td>0</td>\n",
              "      <td>0</td>\n",
              "      <td>0</td>\n",
              "      <td>0</td>\n",
              "      <td>0</td>\n",
              "      <td>0</td>\n",
              "      <td>0</td>\n",
              "      <td>0</td>\n",
              "      <td>0</td>\n",
              "      <td>0</td>\n",
              "    </tr>\n",
              "    <tr>\n",
              "      <th>...</th>\n",
              "      <td>...</td>\n",
              "      <td>...</td>\n",
              "      <td>...</td>\n",
              "      <td>...</td>\n",
              "      <td>...</td>\n",
              "      <td>...</td>\n",
              "      <td>...</td>\n",
              "      <td>...</td>\n",
              "      <td>...</td>\n",
              "      <td>...</td>\n",
              "      <td>...</td>\n",
              "      <td>...</td>\n",
              "      <td>...</td>\n",
              "      <td>...</td>\n",
              "      <td>...</td>\n",
              "      <td>...</td>\n",
              "      <td>...</td>\n",
              "      <td>...</td>\n",
              "      <td>...</td>\n",
              "      <td>...</td>\n",
              "      <td>...</td>\n",
              "    </tr>\n",
              "    <tr>\n",
              "      <th>3328</th>\n",
              "      <td>192</td>\n",
              "      <td>36</td>\n",
              "      <td>156.2</td>\n",
              "      <td>215.5</td>\n",
              "      <td>279.1</td>\n",
              "      <td>9.9</td>\n",
              "      <td>2</td>\n",
              "      <td>no</td>\n",
              "      <td>no</td>\n",
              "      <td>yes</td>\n",
              "      <td>...</td>\n",
              "      <td>0</td>\n",
              "      <td>0</td>\n",
              "      <td>0</td>\n",
              "      <td>0</td>\n",
              "      <td>0</td>\n",
              "      <td>0</td>\n",
              "      <td>0</td>\n",
              "      <td>0</td>\n",
              "      <td>0</td>\n",
              "      <td>0</td>\n",
              "    </tr>\n",
              "    <tr>\n",
              "      <th>3329</th>\n",
              "      <td>68</td>\n",
              "      <td>0</td>\n",
              "      <td>231.1</td>\n",
              "      <td>153.4</td>\n",
              "      <td>191.3</td>\n",
              "      <td>9.6</td>\n",
              "      <td>3</td>\n",
              "      <td>no</td>\n",
              "      <td>no</td>\n",
              "      <td>no</td>\n",
              "      <td>...</td>\n",
              "      <td>0</td>\n",
              "      <td>0</td>\n",
              "      <td>0</td>\n",
              "      <td>0</td>\n",
              "      <td>0</td>\n",
              "      <td>0</td>\n",
              "      <td>0</td>\n",
              "      <td>0</td>\n",
              "      <td>1</td>\n",
              "      <td>0</td>\n",
              "    </tr>\n",
              "    <tr>\n",
              "      <th>3330</th>\n",
              "      <td>28</td>\n",
              "      <td>0</td>\n",
              "      <td>180.8</td>\n",
              "      <td>288.8</td>\n",
              "      <td>191.9</td>\n",
              "      <td>14.1</td>\n",
              "      <td>2</td>\n",
              "      <td>no</td>\n",
              "      <td>no</td>\n",
              "      <td>no</td>\n",
              "      <td>...</td>\n",
              "      <td>0</td>\n",
              "      <td>0</td>\n",
              "      <td>0</td>\n",
              "      <td>0</td>\n",
              "      <td>0</td>\n",
              "      <td>0</td>\n",
              "      <td>0</td>\n",
              "      <td>0</td>\n",
              "      <td>0</td>\n",
              "      <td>0</td>\n",
              "    </tr>\n",
              "    <tr>\n",
              "      <th>3331</th>\n",
              "      <td>184</td>\n",
              "      <td>0</td>\n",
              "      <td>213.8</td>\n",
              "      <td>159.6</td>\n",
              "      <td>139.2</td>\n",
              "      <td>5.0</td>\n",
              "      <td>2</td>\n",
              "      <td>no</td>\n",
              "      <td>yes</td>\n",
              "      <td>no</td>\n",
              "      <td>...</td>\n",
              "      <td>0</td>\n",
              "      <td>0</td>\n",
              "      <td>0</td>\n",
              "      <td>0</td>\n",
              "      <td>0</td>\n",
              "      <td>0</td>\n",
              "      <td>0</td>\n",
              "      <td>0</td>\n",
              "      <td>0</td>\n",
              "      <td>0</td>\n",
              "    </tr>\n",
              "    <tr>\n",
              "      <th>3332</th>\n",
              "      <td>74</td>\n",
              "      <td>25</td>\n",
              "      <td>234.4</td>\n",
              "      <td>265.9</td>\n",
              "      <td>241.4</td>\n",
              "      <td>13.7</td>\n",
              "      <td>0</td>\n",
              "      <td>no</td>\n",
              "      <td>no</td>\n",
              "      <td>yes</td>\n",
              "      <td>...</td>\n",
              "      <td>0</td>\n",
              "      <td>1</td>\n",
              "      <td>0</td>\n",
              "      <td>0</td>\n",
              "      <td>0</td>\n",
              "      <td>0</td>\n",
              "      <td>0</td>\n",
              "      <td>0</td>\n",
              "      <td>0</td>\n",
              "      <td>0</td>\n",
              "    </tr>\n",
              "  </tbody>\n",
              "</table>\n",
              "<p>3333 rows × 71 columns</p>\n",
              "</div>\n",
              "    <div class=\"colab-df-buttons\">\n",
              "\n",
              "  <div class=\"colab-df-container\">\n",
              "    <button class=\"colab-df-convert\" onclick=\"convertToInteractive('df-b85b19f1-aed8-4e6a-9116-f42b5ea5dffa')\"\n",
              "            title=\"Convert this dataframe to an interactive table.\"\n",
              "            style=\"display:none;\">\n",
              "\n",
              "  <svg xmlns=\"http://www.w3.org/2000/svg\" height=\"24px\" viewBox=\"0 -960 960 960\">\n",
              "    <path d=\"M120-120v-720h720v720H120Zm60-500h600v-160H180v160Zm220 220h160v-160H400v160Zm0 220h160v-160H400v160ZM180-400h160v-160H180v160Zm440 0h160v-160H620v160ZM180-180h160v-160H180v160Zm440 0h160v-160H620v160Z\"/>\n",
              "  </svg>\n",
              "    </button>\n",
              "\n",
              "  <style>\n",
              "    .colab-df-container {\n",
              "      display:flex;\n",
              "      gap: 12px;\n",
              "    }\n",
              "\n",
              "    .colab-df-convert {\n",
              "      background-color: #E8F0FE;\n",
              "      border: none;\n",
              "      border-radius: 50%;\n",
              "      cursor: pointer;\n",
              "      display: none;\n",
              "      fill: #1967D2;\n",
              "      height: 32px;\n",
              "      padding: 0 0 0 0;\n",
              "      width: 32px;\n",
              "    }\n",
              "\n",
              "    .colab-df-convert:hover {\n",
              "      background-color: #E2EBFA;\n",
              "      box-shadow: 0px 1px 2px rgba(60, 64, 67, 0.3), 0px 1px 3px 1px rgba(60, 64, 67, 0.15);\n",
              "      fill: #174EA6;\n",
              "    }\n",
              "\n",
              "    .colab-df-buttons div {\n",
              "      margin-bottom: 4px;\n",
              "    }\n",
              "\n",
              "    [theme=dark] .colab-df-convert {\n",
              "      background-color: #3B4455;\n",
              "      fill: #D2E3FC;\n",
              "    }\n",
              "\n",
              "    [theme=dark] .colab-df-convert:hover {\n",
              "      background-color: #434B5C;\n",
              "      box-shadow: 0px 1px 3px 1px rgba(0, 0, 0, 0.15);\n",
              "      filter: drop-shadow(0px 1px 2px rgba(0, 0, 0, 0.3));\n",
              "      fill: #FFFFFF;\n",
              "    }\n",
              "  </style>\n",
              "\n",
              "    <script>\n",
              "      const buttonEl =\n",
              "        document.querySelector('#df-b85b19f1-aed8-4e6a-9116-f42b5ea5dffa button.colab-df-convert');\n",
              "      buttonEl.style.display =\n",
              "        google.colab.kernel.accessAllowed ? 'block' : 'none';\n",
              "\n",
              "      async function convertToInteractive(key) {\n",
              "        const element = document.querySelector('#df-b85b19f1-aed8-4e6a-9116-f42b5ea5dffa');\n",
              "        const dataTable =\n",
              "          await google.colab.kernel.invokeFunction('convertToInteractive',\n",
              "                                                    [key], {});\n",
              "        if (!dataTable) return;\n",
              "\n",
              "        const docLinkHtml = 'Like what you see? Visit the ' +\n",
              "          '<a target=\"_blank\" href=https://colab.research.google.com/notebooks/data_table.ipynb>data table notebook</a>'\n",
              "          + ' to learn more about interactive tables.';\n",
              "        element.innerHTML = '';\n",
              "        dataTable['output_type'] = 'display_data';\n",
              "        await google.colab.output.renderOutput(dataTable, element);\n",
              "        const docLink = document.createElement('div');\n",
              "        docLink.innerHTML = docLinkHtml;\n",
              "        element.appendChild(docLink);\n",
              "      }\n",
              "    </script>\n",
              "  </div>\n",
              "\n",
              "\n",
              "<div id=\"df-5ec77fba-ac8e-4ed5-af34-3a0c45a1ff82\">\n",
              "  <button class=\"colab-df-quickchart\" onclick=\"quickchart('df-5ec77fba-ac8e-4ed5-af34-3a0c45a1ff82')\"\n",
              "            title=\"Suggest charts\"\n",
              "            style=\"display:none;\">\n",
              "\n",
              "<svg xmlns=\"http://www.w3.org/2000/svg\" height=\"24px\"viewBox=\"0 0 24 24\"\n",
              "     width=\"24px\">\n",
              "    <g>\n",
              "        <path d=\"M19 3H5c-1.1 0-2 .9-2 2v14c0 1.1.9 2 2 2h14c1.1 0 2-.9 2-2V5c0-1.1-.9-2-2-2zM9 17H7v-7h2v7zm4 0h-2V7h2v10zm4 0h-2v-4h2v4z\"/>\n",
              "    </g>\n",
              "</svg>\n",
              "  </button>\n",
              "\n",
              "<style>\n",
              "  .colab-df-quickchart {\n",
              "      --bg-color: #E8F0FE;\n",
              "      --fill-color: #1967D2;\n",
              "      --hover-bg-color: #E2EBFA;\n",
              "      --hover-fill-color: #174EA6;\n",
              "      --disabled-fill-color: #AAA;\n",
              "      --disabled-bg-color: #DDD;\n",
              "  }\n",
              "\n",
              "  [theme=dark] .colab-df-quickchart {\n",
              "      --bg-color: #3B4455;\n",
              "      --fill-color: #D2E3FC;\n",
              "      --hover-bg-color: #434B5C;\n",
              "      --hover-fill-color: #FFFFFF;\n",
              "      --disabled-bg-color: #3B4455;\n",
              "      --disabled-fill-color: #666;\n",
              "  }\n",
              "\n",
              "  .colab-df-quickchart {\n",
              "    background-color: var(--bg-color);\n",
              "    border: none;\n",
              "    border-radius: 50%;\n",
              "    cursor: pointer;\n",
              "    display: none;\n",
              "    fill: var(--fill-color);\n",
              "    height: 32px;\n",
              "    padding: 0;\n",
              "    width: 32px;\n",
              "  }\n",
              "\n",
              "  .colab-df-quickchart:hover {\n",
              "    background-color: var(--hover-bg-color);\n",
              "    box-shadow: 0 1px 2px rgba(60, 64, 67, 0.3), 0 1px 3px 1px rgba(60, 64, 67, 0.15);\n",
              "    fill: var(--button-hover-fill-color);\n",
              "  }\n",
              "\n",
              "  .colab-df-quickchart-complete:disabled,\n",
              "  .colab-df-quickchart-complete:disabled:hover {\n",
              "    background-color: var(--disabled-bg-color);\n",
              "    fill: var(--disabled-fill-color);\n",
              "    box-shadow: none;\n",
              "  }\n",
              "\n",
              "  .colab-df-spinner {\n",
              "    border: 2px solid var(--fill-color);\n",
              "    border-color: transparent;\n",
              "    border-bottom-color: var(--fill-color);\n",
              "    animation:\n",
              "      spin 1s steps(1) infinite;\n",
              "  }\n",
              "\n",
              "  @keyframes spin {\n",
              "    0% {\n",
              "      border-color: transparent;\n",
              "      border-bottom-color: var(--fill-color);\n",
              "      border-left-color: var(--fill-color);\n",
              "    }\n",
              "    20% {\n",
              "      border-color: transparent;\n",
              "      border-left-color: var(--fill-color);\n",
              "      border-top-color: var(--fill-color);\n",
              "    }\n",
              "    30% {\n",
              "      border-color: transparent;\n",
              "      border-left-color: var(--fill-color);\n",
              "      border-top-color: var(--fill-color);\n",
              "      border-right-color: var(--fill-color);\n",
              "    }\n",
              "    40% {\n",
              "      border-color: transparent;\n",
              "      border-right-color: var(--fill-color);\n",
              "      border-top-color: var(--fill-color);\n",
              "    }\n",
              "    60% {\n",
              "      border-color: transparent;\n",
              "      border-right-color: var(--fill-color);\n",
              "    }\n",
              "    80% {\n",
              "      border-color: transparent;\n",
              "      border-right-color: var(--fill-color);\n",
              "      border-bottom-color: var(--fill-color);\n",
              "    }\n",
              "    90% {\n",
              "      border-color: transparent;\n",
              "      border-bottom-color: var(--fill-color);\n",
              "    }\n",
              "  }\n",
              "</style>\n",
              "\n",
              "  <script>\n",
              "    async function quickchart(key) {\n",
              "      const quickchartButtonEl =\n",
              "        document.querySelector('#' + key + ' button');\n",
              "      quickchartButtonEl.disabled = true;  // To prevent multiple clicks.\n",
              "      quickchartButtonEl.classList.add('colab-df-spinner');\n",
              "      try {\n",
              "        const charts = await google.colab.kernel.invokeFunction(\n",
              "            'suggestCharts', [key], {});\n",
              "      } catch (error) {\n",
              "        console.error('Error during call to suggestCharts:', error);\n",
              "      }\n",
              "      quickchartButtonEl.classList.remove('colab-df-spinner');\n",
              "      quickchartButtonEl.classList.add('colab-df-quickchart-complete');\n",
              "    }\n",
              "    (() => {\n",
              "      let quickchartButtonEl =\n",
              "        document.querySelector('#df-5ec77fba-ac8e-4ed5-af34-3a0c45a1ff82 button');\n",
              "      quickchartButtonEl.style.display =\n",
              "        google.colab.kernel.accessAllowed ? 'block' : 'none';\n",
              "    })();\n",
              "  </script>\n",
              "</div>\n",
              "    </div>\n",
              "  </div>\n"
            ],
            "application/vnd.google.colaboratory.intrinsic+json": {
              "type": "dataframe",
              "variable_name": "telco"
            }
          },
          "metadata": {},
          "execution_count": 10
        }
      ]
    },
    {
      "cell_type": "markdown",
      "source": [
        "#### 2.e. Remove the `Phone` variable from the telco data. Use the Pandas `drop()` method."
      ],
      "metadata": {
        "id": "MdW9JV1OJFPQ"
      }
    },
    {
      "cell_type": "code",
      "source": [
        "# drop customer id\n",
        "telco.drop(['Phone'], axis=1, inplace=True)\n"
      ],
      "metadata": {
        "id": "etG7-RZPlMcm"
      },
      "execution_count": null,
      "outputs": []
    },
    {
      "cell_type": "markdown",
      "source": [
        "Examine the first few rows of the data set."
      ],
      "metadata": {
        "id": "Z93YwgvTJWnz"
      }
    },
    {
      "cell_type": "code",
      "source": [
        "telco.head()"
      ],
      "metadata": {
        "id": "brN_UuIoun9H",
        "colab": {
          "base_uri": "https://localhost:8080/",
          "height": 300
        },
        "outputId": "689f0b86-02a0-49d0-98c8-f29b84bbb01e"
      },
      "execution_count": null,
      "outputs": [
        {
          "output_type": "execute_result",
          "data": {
            "text/plain": [
              "   Account_Length  Vmail_Message  Day_Mins  Eve_Mins  Night_Mins  Intl_Mins  \\\n",
              "0             128             25     265.1     197.4       244.7       10.0   \n",
              "1             107             26     161.6     195.5       254.4       13.7   \n",
              "2             137              0     243.4     121.2       162.6       12.2   \n",
              "3              84              0     299.4      61.9       196.9        6.6   \n",
              "4              75              0     166.7     148.3       186.9       10.1   \n",
              "\n",
              "   CustServ_Calls  Churn  Intl_Plan  Vmail_Plan  ...  State_SD  State_TN  \\\n",
              "0               1      0          0           1  ...         0         0   \n",
              "1               1      0          0           1  ...         0         0   \n",
              "2               0      0          0           0  ...         0         0   \n",
              "3               2      0          1           0  ...         0         0   \n",
              "4               3      0          1           0  ...         0         0   \n",
              "\n",
              "   State_TX  State_UT  State_VA  State_VT  State_WA  State_WI  State_WV  \\\n",
              "0         0         0         0         0         0         0         0   \n",
              "1         0         0         0         0         0         0         0   \n",
              "2         0         0         0         0         0         0         0   \n",
              "3         0         0         0         0         0         0         0   \n",
              "4         0         0         0         0         0         0         0   \n",
              "\n",
              "   State_WY  \n",
              "0         0  \n",
              "1         0  \n",
              "2         0  \n",
              "3         0  \n",
              "4         0  \n",
              "\n",
              "[5 rows x 70 columns]"
            ],
            "text/html": [
              "\n",
              "  <div id=\"df-e9b3da7d-fa41-47f1-b83b-ec039d34ec0f\">\n",
              "    <div class=\"colab-df-container\">\n",
              "      <div>\n",
              "<style scoped>\n",
              "    .dataframe tbody tr th:only-of-type {\n",
              "        vertical-align: middle;\n",
              "    }\n",
              "\n",
              "    .dataframe tbody tr th {\n",
              "        vertical-align: top;\n",
              "    }\n",
              "\n",
              "    .dataframe thead th {\n",
              "        text-align: right;\n",
              "    }\n",
              "</style>\n",
              "<table border=\"1\" class=\"dataframe\">\n",
              "  <thead>\n",
              "    <tr style=\"text-align: right;\">\n",
              "      <th></th>\n",
              "      <th>Account_Length</th>\n",
              "      <th>Vmail_Message</th>\n",
              "      <th>Day_Mins</th>\n",
              "      <th>Eve_Mins</th>\n",
              "      <th>Night_Mins</th>\n",
              "      <th>Intl_Mins</th>\n",
              "      <th>CustServ_Calls</th>\n",
              "      <th>Churn</th>\n",
              "      <th>Intl_Plan</th>\n",
              "      <th>Vmail_Plan</th>\n",
              "      <th>...</th>\n",
              "      <th>State_SD</th>\n",
              "      <th>State_TN</th>\n",
              "      <th>State_TX</th>\n",
              "      <th>State_UT</th>\n",
              "      <th>State_VA</th>\n",
              "      <th>State_VT</th>\n",
              "      <th>State_WA</th>\n",
              "      <th>State_WI</th>\n",
              "      <th>State_WV</th>\n",
              "      <th>State_WY</th>\n",
              "    </tr>\n",
              "  </thead>\n",
              "  <tbody>\n",
              "    <tr>\n",
              "      <th>0</th>\n",
              "      <td>128</td>\n",
              "      <td>25</td>\n",
              "      <td>265.1</td>\n",
              "      <td>197.4</td>\n",
              "      <td>244.7</td>\n",
              "      <td>10.0</td>\n",
              "      <td>1</td>\n",
              "      <td>0</td>\n",
              "      <td>0</td>\n",
              "      <td>1</td>\n",
              "      <td>...</td>\n",
              "      <td>0</td>\n",
              "      <td>0</td>\n",
              "      <td>0</td>\n",
              "      <td>0</td>\n",
              "      <td>0</td>\n",
              "      <td>0</td>\n",
              "      <td>0</td>\n",
              "      <td>0</td>\n",
              "      <td>0</td>\n",
              "      <td>0</td>\n",
              "    </tr>\n",
              "    <tr>\n",
              "      <th>1</th>\n",
              "      <td>107</td>\n",
              "      <td>26</td>\n",
              "      <td>161.6</td>\n",
              "      <td>195.5</td>\n",
              "      <td>254.4</td>\n",
              "      <td>13.7</td>\n",
              "      <td>1</td>\n",
              "      <td>0</td>\n",
              "      <td>0</td>\n",
              "      <td>1</td>\n",
              "      <td>...</td>\n",
              "      <td>0</td>\n",
              "      <td>0</td>\n",
              "      <td>0</td>\n",
              "      <td>0</td>\n",
              "      <td>0</td>\n",
              "      <td>0</td>\n",
              "      <td>0</td>\n",
              "      <td>0</td>\n",
              "      <td>0</td>\n",
              "      <td>0</td>\n",
              "    </tr>\n",
              "    <tr>\n",
              "      <th>2</th>\n",
              "      <td>137</td>\n",
              "      <td>0</td>\n",
              "      <td>243.4</td>\n",
              "      <td>121.2</td>\n",
              "      <td>162.6</td>\n",
              "      <td>12.2</td>\n",
              "      <td>0</td>\n",
              "      <td>0</td>\n",
              "      <td>0</td>\n",
              "      <td>0</td>\n",
              "      <td>...</td>\n",
              "      <td>0</td>\n",
              "      <td>0</td>\n",
              "      <td>0</td>\n",
              "      <td>0</td>\n",
              "      <td>0</td>\n",
              "      <td>0</td>\n",
              "      <td>0</td>\n",
              "      <td>0</td>\n",
              "      <td>0</td>\n",
              "      <td>0</td>\n",
              "    </tr>\n",
              "    <tr>\n",
              "      <th>3</th>\n",
              "      <td>84</td>\n",
              "      <td>0</td>\n",
              "      <td>299.4</td>\n",
              "      <td>61.9</td>\n",
              "      <td>196.9</td>\n",
              "      <td>6.6</td>\n",
              "      <td>2</td>\n",
              "      <td>0</td>\n",
              "      <td>1</td>\n",
              "      <td>0</td>\n",
              "      <td>...</td>\n",
              "      <td>0</td>\n",
              "      <td>0</td>\n",
              "      <td>0</td>\n",
              "      <td>0</td>\n",
              "      <td>0</td>\n",
              "      <td>0</td>\n",
              "      <td>0</td>\n",
              "      <td>0</td>\n",
              "      <td>0</td>\n",
              "      <td>0</td>\n",
              "    </tr>\n",
              "    <tr>\n",
              "      <th>4</th>\n",
              "      <td>75</td>\n",
              "      <td>0</td>\n",
              "      <td>166.7</td>\n",
              "      <td>148.3</td>\n",
              "      <td>186.9</td>\n",
              "      <td>10.1</td>\n",
              "      <td>3</td>\n",
              "      <td>0</td>\n",
              "      <td>1</td>\n",
              "      <td>0</td>\n",
              "      <td>...</td>\n",
              "      <td>0</td>\n",
              "      <td>0</td>\n",
              "      <td>0</td>\n",
              "      <td>0</td>\n",
              "      <td>0</td>\n",
              "      <td>0</td>\n",
              "      <td>0</td>\n",
              "      <td>0</td>\n",
              "      <td>0</td>\n",
              "      <td>0</td>\n",
              "    </tr>\n",
              "  </tbody>\n",
              "</table>\n",
              "<p>5 rows × 70 columns</p>\n",
              "</div>\n",
              "      <button class=\"colab-df-convert\" onclick=\"convertToInteractive('df-e9b3da7d-fa41-47f1-b83b-ec039d34ec0f')\"\n",
              "              title=\"Convert this dataframe to an interactive table.\"\n",
              "              style=\"display:none;\">\n",
              "        \n",
              "  <svg xmlns=\"http://www.w3.org/2000/svg\" height=\"24px\"viewBox=\"0 0 24 24\"\n",
              "       width=\"24px\">\n",
              "    <path d=\"M0 0h24v24H0V0z\" fill=\"none\"/>\n",
              "    <path d=\"M18.56 5.44l.94 2.06.94-2.06 2.06-.94-2.06-.94-.94-2.06-.94 2.06-2.06.94zm-11 1L8.5 8.5l.94-2.06 2.06-.94-2.06-.94L8.5 2.5l-.94 2.06-2.06.94zm10 10l.94 2.06.94-2.06 2.06-.94-2.06-.94-.94-2.06-.94 2.06-2.06.94z\"/><path d=\"M17.41 7.96l-1.37-1.37c-.4-.4-.92-.59-1.43-.59-.52 0-1.04.2-1.43.59L10.3 9.45l-7.72 7.72c-.78.78-.78 2.05 0 2.83L4 21.41c.39.39.9.59 1.41.59.51 0 1.02-.2 1.41-.59l7.78-7.78 2.81-2.81c.8-.78.8-2.07 0-2.86zM5.41 20L4 18.59l7.72-7.72 1.47 1.35L5.41 20z\"/>\n",
              "  </svg>\n",
              "      </button>\n",
              "      \n",
              "  <style>\n",
              "    .colab-df-container {\n",
              "      display:flex;\n",
              "      flex-wrap:wrap;\n",
              "      gap: 12px;\n",
              "    }\n",
              "\n",
              "    .colab-df-convert {\n",
              "      background-color: #E8F0FE;\n",
              "      border: none;\n",
              "      border-radius: 50%;\n",
              "      cursor: pointer;\n",
              "      display: none;\n",
              "      fill: #1967D2;\n",
              "      height: 32px;\n",
              "      padding: 0 0 0 0;\n",
              "      width: 32px;\n",
              "    }\n",
              "\n",
              "    .colab-df-convert:hover {\n",
              "      background-color: #E2EBFA;\n",
              "      box-shadow: 0px 1px 2px rgba(60, 64, 67, 0.3), 0px 1px 3px 1px rgba(60, 64, 67, 0.15);\n",
              "      fill: #174EA6;\n",
              "    }\n",
              "\n",
              "    [theme=dark] .colab-df-convert {\n",
              "      background-color: #3B4455;\n",
              "      fill: #D2E3FC;\n",
              "    }\n",
              "\n",
              "    [theme=dark] .colab-df-convert:hover {\n",
              "      background-color: #434B5C;\n",
              "      box-shadow: 0px 1px 3px 1px rgba(0, 0, 0, 0.15);\n",
              "      filter: drop-shadow(0px 1px 2px rgba(0, 0, 0, 0.3));\n",
              "      fill: #FFFFFF;\n",
              "    }\n",
              "  </style>\n",
              "\n",
              "      <script>\n",
              "        const buttonEl =\n",
              "          document.querySelector('#df-e9b3da7d-fa41-47f1-b83b-ec039d34ec0f button.colab-df-convert');\n",
              "        buttonEl.style.display =\n",
              "          google.colab.kernel.accessAllowed ? 'block' : 'none';\n",
              "\n",
              "        async function convertToInteractive(key) {\n",
              "          const element = document.querySelector('#df-e9b3da7d-fa41-47f1-b83b-ec039d34ec0f');\n",
              "          const dataTable =\n",
              "            await google.colab.kernel.invokeFunction('convertToInteractive',\n",
              "                                                     [key], {});\n",
              "          if (!dataTable) return;\n",
              "\n",
              "          const docLinkHtml = 'Like what you see? Visit the ' +\n",
              "            '<a target=\"_blank\" href=https://colab.research.google.com/notebooks/data_table.ipynb>data table notebook</a>'\n",
              "            + ' to learn more about interactive tables.';\n",
              "          element.innerHTML = '';\n",
              "          dataTable['output_type'] = 'display_data';\n",
              "          await google.colab.output.renderOutput(dataTable, element);\n",
              "          const docLink = document.createElement('div');\n",
              "          docLink.innerHTML = docLinkHtml;\n",
              "          element.appendChild(docLink);\n",
              "        }\n",
              "      </script>\n",
              "    </div>\n",
              "  </div>\n",
              "  "
            ]
          },
          "metadata": {},
          "execution_count": 46
        }
      ]
    },
    {
      "cell_type": "code",
      "source": [
        "telco.info()"
      ],
      "metadata": {
        "id": "2LG0qewMY5dJ"
      },
      "execution_count": null,
      "outputs": []
    },
    {
      "cell_type": "markdown",
      "source": [
        "### 3. Attribute Selection (abbreviated)"
      ],
      "metadata": {
        "id": "iRYMx8Xj8Jgj"
      }
    },
    {
      "cell_type": "markdown",
      "source": [
        "Find the correlations for the quantitative variables."
      ],
      "metadata": {
        "id": "BVscxe_LJf3m"
      }
    },
    {
      "cell_type": "code",
      "source": [
        "corr=telco[['Account_Length','Vmail_Message','Day_Mins','Eve_Mins','Night_Mins','Intl_Mins','CustServ_Calls','Day_Calls','Day_Charge','Eve_Calls','Eve_Charge','Night_Calls','Night_Charge','Intl_Calls','Intl_Charge']].corr()\n",
        "corr"
      ],
      "metadata": {
        "id": "28Xl8Kcp8QPA",
        "colab": {
          "base_uri": "https://localhost:8080/",
          "height": 584
        },
        "outputId": "81e75289-36c0-46d7-c65a-2ae3aaeaafcb"
      },
      "execution_count": null,
      "outputs": [
        {
          "output_type": "execute_result",
          "data": {
            "text/plain": [
              "                Account_Length  Vmail_Message  Day_Mins  Eve_Mins  Night_Mins  \\\n",
              "Account_Length        1.000000      -0.004628  0.006216 -0.006757   -0.008955   \n",
              "Vmail_Message        -0.004628       1.000000  0.000778  0.017562    0.007681   \n",
              "Day_Mins              0.006216       0.000778  1.000000  0.007043    0.004323   \n",
              "Eve_Mins             -0.006757       0.017562  0.007043  1.000000   -0.012584   \n",
              "Night_Mins           -0.008955       0.007681  0.004323 -0.012584    1.000000   \n",
              "Intl_Mins             0.009514       0.002856 -0.010155 -0.011035   -0.015207   \n",
              "CustServ_Calls       -0.003796      -0.013263 -0.013423 -0.012985   -0.009288   \n",
              "Day_Calls             0.038470      -0.009548  0.006750 -0.021451    0.022938   \n",
              "Day_Charge            0.006214       0.000776  1.000000  0.007050    0.004324   \n",
              "Eve_Calls             0.019260      -0.005864  0.015769 -0.011430   -0.002093   \n",
              "Eve_Charge           -0.006745       0.017578  0.007029  1.000000   -0.012592   \n",
              "Night_Calls          -0.013176       0.007123  0.022972  0.007586    0.011204   \n",
              "Night_Charge         -0.008960       0.007663  0.004300 -0.012593    0.999999   \n",
              "Intl_Calls            0.020661       0.013957  0.008033  0.002541   -0.012353   \n",
              "Intl_Charge           0.009546       0.002884 -0.010092 -0.011067   -0.015180   \n",
              "\n",
              "                Intl_Mins  CustServ_Calls  Day_Calls  Day_Charge  Eve_Calls  \\\n",
              "Account_Length   0.009514       -0.003796   0.038470    0.006214   0.019260   \n",
              "Vmail_Message    0.002856       -0.013263  -0.009548    0.000776  -0.005864   \n",
              "Day_Mins        -0.010155       -0.013423   0.006750    1.000000   0.015769   \n",
              "Eve_Mins        -0.011035       -0.012985  -0.021451    0.007050  -0.011430   \n",
              "Night_Mins      -0.015207       -0.009288   0.022938    0.004324  -0.002093   \n",
              "Intl_Mins        1.000000       -0.009640   0.021565   -0.010157   0.008703   \n",
              "CustServ_Calls  -0.009640        1.000000  -0.018942   -0.013427   0.002423   \n",
              "Day_Calls        0.021565       -0.018942   1.000000    0.006753   0.006462   \n",
              "Day_Charge      -0.010157       -0.013427   0.006753    1.000000   0.015769   \n",
              "Eve_Calls        0.008703        0.002423   0.006462    0.015769   1.000000   \n",
              "Eve_Charge      -0.011043       -0.012987  -0.021449    0.007036  -0.011423   \n",
              "Night_Calls     -0.013605       -0.012802  -0.019557    0.022972   0.007710   \n",
              "Night_Charge    -0.015214       -0.009277   0.022927    0.004301  -0.002056   \n",
              "Intl_Calls       0.032304       -0.017561   0.004574    0.008032   0.017434   \n",
              "Intl_Charge      0.999993       -0.009675   0.021666   -0.010094   0.008674   \n",
              "\n",
              "                Eve_Charge  Night_Calls  Night_Charge  Intl_Calls  Intl_Charge  \n",
              "Account_Length   -0.006745    -0.013176     -0.008960    0.020661     0.009546  \n",
              "Vmail_Message     0.017578     0.007123      0.007663    0.013957     0.002884  \n",
              "Day_Mins          0.007029     0.022972      0.004300    0.008033    -0.010092  \n",
              "Eve_Mins          1.000000     0.007586     -0.012593    0.002541    -0.011067  \n",
              "Night_Mins       -0.012592     0.011204      0.999999   -0.012353    -0.015180  \n",
              "Intl_Mins        -0.011043    -0.013605     -0.015214    0.032304     0.999993  \n",
              "CustServ_Calls   -0.012987    -0.012802     -0.009277   -0.017561    -0.009675  \n",
              "Day_Calls        -0.021449    -0.019557      0.022927    0.004574     0.021666  \n",
              "Day_Charge        0.007036     0.022972      0.004301    0.008032    -0.010094  \n",
              "Eve_Calls        -0.011423     0.007710     -0.002056    0.017434     0.008674  \n",
              "Eve_Charge        1.000000     0.007596     -0.012601    0.002541    -0.011074  \n",
              "Night_Calls       0.007596     1.000000      0.011188    0.000305    -0.013630  \n",
              "Night_Charge     -0.012601     0.011188      1.000000   -0.012329    -0.015186  \n",
              "Intl_Calls        0.002541     0.000305     -0.012329    1.000000     0.032372  \n",
              "Intl_Charge      -0.011074    -0.013630     -0.015186    0.032372     1.000000  "
            ],
            "text/html": [
              "\n",
              "  <div id=\"df-f6a0cc53-5676-4e7b-9544-9e8f1de40f29\">\n",
              "    <div class=\"colab-df-container\">\n",
              "      <div>\n",
              "<style scoped>\n",
              "    .dataframe tbody tr th:only-of-type {\n",
              "        vertical-align: middle;\n",
              "    }\n",
              "\n",
              "    .dataframe tbody tr th {\n",
              "        vertical-align: top;\n",
              "    }\n",
              "\n",
              "    .dataframe thead th {\n",
              "        text-align: right;\n",
              "    }\n",
              "</style>\n",
              "<table border=\"1\" class=\"dataframe\">\n",
              "  <thead>\n",
              "    <tr style=\"text-align: right;\">\n",
              "      <th></th>\n",
              "      <th>Account_Length</th>\n",
              "      <th>Vmail_Message</th>\n",
              "      <th>Day_Mins</th>\n",
              "      <th>Eve_Mins</th>\n",
              "      <th>Night_Mins</th>\n",
              "      <th>Intl_Mins</th>\n",
              "      <th>CustServ_Calls</th>\n",
              "      <th>Day_Calls</th>\n",
              "      <th>Day_Charge</th>\n",
              "      <th>Eve_Calls</th>\n",
              "      <th>Eve_Charge</th>\n",
              "      <th>Night_Calls</th>\n",
              "      <th>Night_Charge</th>\n",
              "      <th>Intl_Calls</th>\n",
              "      <th>Intl_Charge</th>\n",
              "    </tr>\n",
              "  </thead>\n",
              "  <tbody>\n",
              "    <tr>\n",
              "      <th>Account_Length</th>\n",
              "      <td>1.000000</td>\n",
              "      <td>-0.004628</td>\n",
              "      <td>0.006216</td>\n",
              "      <td>-0.006757</td>\n",
              "      <td>-0.008955</td>\n",
              "      <td>0.009514</td>\n",
              "      <td>-0.003796</td>\n",
              "      <td>0.038470</td>\n",
              "      <td>0.006214</td>\n",
              "      <td>0.019260</td>\n",
              "      <td>-0.006745</td>\n",
              "      <td>-0.013176</td>\n",
              "      <td>-0.008960</td>\n",
              "      <td>0.020661</td>\n",
              "      <td>0.009546</td>\n",
              "    </tr>\n",
              "    <tr>\n",
              "      <th>Vmail_Message</th>\n",
              "      <td>-0.004628</td>\n",
              "      <td>1.000000</td>\n",
              "      <td>0.000778</td>\n",
              "      <td>0.017562</td>\n",
              "      <td>0.007681</td>\n",
              "      <td>0.002856</td>\n",
              "      <td>-0.013263</td>\n",
              "      <td>-0.009548</td>\n",
              "      <td>0.000776</td>\n",
              "      <td>-0.005864</td>\n",
              "      <td>0.017578</td>\n",
              "      <td>0.007123</td>\n",
              "      <td>0.007663</td>\n",
              "      <td>0.013957</td>\n",
              "      <td>0.002884</td>\n",
              "    </tr>\n",
              "    <tr>\n",
              "      <th>Day_Mins</th>\n",
              "      <td>0.006216</td>\n",
              "      <td>0.000778</td>\n",
              "      <td>1.000000</td>\n",
              "      <td>0.007043</td>\n",
              "      <td>0.004323</td>\n",
              "      <td>-0.010155</td>\n",
              "      <td>-0.013423</td>\n",
              "      <td>0.006750</td>\n",
              "      <td>1.000000</td>\n",
              "      <td>0.015769</td>\n",
              "      <td>0.007029</td>\n",
              "      <td>0.022972</td>\n",
              "      <td>0.004300</td>\n",
              "      <td>0.008033</td>\n",
              "      <td>-0.010092</td>\n",
              "    </tr>\n",
              "    <tr>\n",
              "      <th>Eve_Mins</th>\n",
              "      <td>-0.006757</td>\n",
              "      <td>0.017562</td>\n",
              "      <td>0.007043</td>\n",
              "      <td>1.000000</td>\n",
              "      <td>-0.012584</td>\n",
              "      <td>-0.011035</td>\n",
              "      <td>-0.012985</td>\n",
              "      <td>-0.021451</td>\n",
              "      <td>0.007050</td>\n",
              "      <td>-0.011430</td>\n",
              "      <td>1.000000</td>\n",
              "      <td>0.007586</td>\n",
              "      <td>-0.012593</td>\n",
              "      <td>0.002541</td>\n",
              "      <td>-0.011067</td>\n",
              "    </tr>\n",
              "    <tr>\n",
              "      <th>Night_Mins</th>\n",
              "      <td>-0.008955</td>\n",
              "      <td>0.007681</td>\n",
              "      <td>0.004323</td>\n",
              "      <td>-0.012584</td>\n",
              "      <td>1.000000</td>\n",
              "      <td>-0.015207</td>\n",
              "      <td>-0.009288</td>\n",
              "      <td>0.022938</td>\n",
              "      <td>0.004324</td>\n",
              "      <td>-0.002093</td>\n",
              "      <td>-0.012592</td>\n",
              "      <td>0.011204</td>\n",
              "      <td>0.999999</td>\n",
              "      <td>-0.012353</td>\n",
              "      <td>-0.015180</td>\n",
              "    </tr>\n",
              "    <tr>\n",
              "      <th>Intl_Mins</th>\n",
              "      <td>0.009514</td>\n",
              "      <td>0.002856</td>\n",
              "      <td>-0.010155</td>\n",
              "      <td>-0.011035</td>\n",
              "      <td>-0.015207</td>\n",
              "      <td>1.000000</td>\n",
              "      <td>-0.009640</td>\n",
              "      <td>0.021565</td>\n",
              "      <td>-0.010157</td>\n",
              "      <td>0.008703</td>\n",
              "      <td>-0.011043</td>\n",
              "      <td>-0.013605</td>\n",
              "      <td>-0.015214</td>\n",
              "      <td>0.032304</td>\n",
              "      <td>0.999993</td>\n",
              "    </tr>\n",
              "    <tr>\n",
              "      <th>CustServ_Calls</th>\n",
              "      <td>-0.003796</td>\n",
              "      <td>-0.013263</td>\n",
              "      <td>-0.013423</td>\n",
              "      <td>-0.012985</td>\n",
              "      <td>-0.009288</td>\n",
              "      <td>-0.009640</td>\n",
              "      <td>1.000000</td>\n",
              "      <td>-0.018942</td>\n",
              "      <td>-0.013427</td>\n",
              "      <td>0.002423</td>\n",
              "      <td>-0.012987</td>\n",
              "      <td>-0.012802</td>\n",
              "      <td>-0.009277</td>\n",
              "      <td>-0.017561</td>\n",
              "      <td>-0.009675</td>\n",
              "    </tr>\n",
              "    <tr>\n",
              "      <th>Day_Calls</th>\n",
              "      <td>0.038470</td>\n",
              "      <td>-0.009548</td>\n",
              "      <td>0.006750</td>\n",
              "      <td>-0.021451</td>\n",
              "      <td>0.022938</td>\n",
              "      <td>0.021565</td>\n",
              "      <td>-0.018942</td>\n",
              "      <td>1.000000</td>\n",
              "      <td>0.006753</td>\n",
              "      <td>0.006462</td>\n",
              "      <td>-0.021449</td>\n",
              "      <td>-0.019557</td>\n",
              "      <td>0.022927</td>\n",
              "      <td>0.004574</td>\n",
              "      <td>0.021666</td>\n",
              "    </tr>\n",
              "    <tr>\n",
              "      <th>Day_Charge</th>\n",
              "      <td>0.006214</td>\n",
              "      <td>0.000776</td>\n",
              "      <td>1.000000</td>\n",
              "      <td>0.007050</td>\n",
              "      <td>0.004324</td>\n",
              "      <td>-0.010157</td>\n",
              "      <td>-0.013427</td>\n",
              "      <td>0.006753</td>\n",
              "      <td>1.000000</td>\n",
              "      <td>0.015769</td>\n",
              "      <td>0.007036</td>\n",
              "      <td>0.022972</td>\n",
              "      <td>0.004301</td>\n",
              "      <td>0.008032</td>\n",
              "      <td>-0.010094</td>\n",
              "    </tr>\n",
              "    <tr>\n",
              "      <th>Eve_Calls</th>\n",
              "      <td>0.019260</td>\n",
              "      <td>-0.005864</td>\n",
              "      <td>0.015769</td>\n",
              "      <td>-0.011430</td>\n",
              "      <td>-0.002093</td>\n",
              "      <td>0.008703</td>\n",
              "      <td>0.002423</td>\n",
              "      <td>0.006462</td>\n",
              "      <td>0.015769</td>\n",
              "      <td>1.000000</td>\n",
              "      <td>-0.011423</td>\n",
              "      <td>0.007710</td>\n",
              "      <td>-0.002056</td>\n",
              "      <td>0.017434</td>\n",
              "      <td>0.008674</td>\n",
              "    </tr>\n",
              "    <tr>\n",
              "      <th>Eve_Charge</th>\n",
              "      <td>-0.006745</td>\n",
              "      <td>0.017578</td>\n",
              "      <td>0.007029</td>\n",
              "      <td>1.000000</td>\n",
              "      <td>-0.012592</td>\n",
              "      <td>-0.011043</td>\n",
              "      <td>-0.012987</td>\n",
              "      <td>-0.021449</td>\n",
              "      <td>0.007036</td>\n",
              "      <td>-0.011423</td>\n",
              "      <td>1.000000</td>\n",
              "      <td>0.007596</td>\n",
              "      <td>-0.012601</td>\n",
              "      <td>0.002541</td>\n",
              "      <td>-0.011074</td>\n",
              "    </tr>\n",
              "    <tr>\n",
              "      <th>Night_Calls</th>\n",
              "      <td>-0.013176</td>\n",
              "      <td>0.007123</td>\n",
              "      <td>0.022972</td>\n",
              "      <td>0.007586</td>\n",
              "      <td>0.011204</td>\n",
              "      <td>-0.013605</td>\n",
              "      <td>-0.012802</td>\n",
              "      <td>-0.019557</td>\n",
              "      <td>0.022972</td>\n",
              "      <td>0.007710</td>\n",
              "      <td>0.007596</td>\n",
              "      <td>1.000000</td>\n",
              "      <td>0.011188</td>\n",
              "      <td>0.000305</td>\n",
              "      <td>-0.013630</td>\n",
              "    </tr>\n",
              "    <tr>\n",
              "      <th>Night_Charge</th>\n",
              "      <td>-0.008960</td>\n",
              "      <td>0.007663</td>\n",
              "      <td>0.004300</td>\n",
              "      <td>-0.012593</td>\n",
              "      <td>0.999999</td>\n",
              "      <td>-0.015214</td>\n",
              "      <td>-0.009277</td>\n",
              "      <td>0.022927</td>\n",
              "      <td>0.004301</td>\n",
              "      <td>-0.002056</td>\n",
              "      <td>-0.012601</td>\n",
              "      <td>0.011188</td>\n",
              "      <td>1.000000</td>\n",
              "      <td>-0.012329</td>\n",
              "      <td>-0.015186</td>\n",
              "    </tr>\n",
              "    <tr>\n",
              "      <th>Intl_Calls</th>\n",
              "      <td>0.020661</td>\n",
              "      <td>0.013957</td>\n",
              "      <td>0.008033</td>\n",
              "      <td>0.002541</td>\n",
              "      <td>-0.012353</td>\n",
              "      <td>0.032304</td>\n",
              "      <td>-0.017561</td>\n",
              "      <td>0.004574</td>\n",
              "      <td>0.008032</td>\n",
              "      <td>0.017434</td>\n",
              "      <td>0.002541</td>\n",
              "      <td>0.000305</td>\n",
              "      <td>-0.012329</td>\n",
              "      <td>1.000000</td>\n",
              "      <td>0.032372</td>\n",
              "    </tr>\n",
              "    <tr>\n",
              "      <th>Intl_Charge</th>\n",
              "      <td>0.009546</td>\n",
              "      <td>0.002884</td>\n",
              "      <td>-0.010092</td>\n",
              "      <td>-0.011067</td>\n",
              "      <td>-0.015180</td>\n",
              "      <td>0.999993</td>\n",
              "      <td>-0.009675</td>\n",
              "      <td>0.021666</td>\n",
              "      <td>-0.010094</td>\n",
              "      <td>0.008674</td>\n",
              "      <td>-0.011074</td>\n",
              "      <td>-0.013630</td>\n",
              "      <td>-0.015186</td>\n",
              "      <td>0.032372</td>\n",
              "      <td>1.000000</td>\n",
              "    </tr>\n",
              "  </tbody>\n",
              "</table>\n",
              "</div>\n",
              "      <button class=\"colab-df-convert\" onclick=\"convertToInteractive('df-f6a0cc53-5676-4e7b-9544-9e8f1de40f29')\"\n",
              "              title=\"Convert this dataframe to an interactive table.\"\n",
              "              style=\"display:none;\">\n",
              "        \n",
              "  <svg xmlns=\"http://www.w3.org/2000/svg\" height=\"24px\"viewBox=\"0 0 24 24\"\n",
              "       width=\"24px\">\n",
              "    <path d=\"M0 0h24v24H0V0z\" fill=\"none\"/>\n",
              "    <path d=\"M18.56 5.44l.94 2.06.94-2.06 2.06-.94-2.06-.94-.94-2.06-.94 2.06-2.06.94zm-11 1L8.5 8.5l.94-2.06 2.06-.94-2.06-.94L8.5 2.5l-.94 2.06-2.06.94zm10 10l.94 2.06.94-2.06 2.06-.94-2.06-.94-.94-2.06-.94 2.06-2.06.94z\"/><path d=\"M17.41 7.96l-1.37-1.37c-.4-.4-.92-.59-1.43-.59-.52 0-1.04.2-1.43.59L10.3 9.45l-7.72 7.72c-.78.78-.78 2.05 0 2.83L4 21.41c.39.39.9.59 1.41.59.51 0 1.02-.2 1.41-.59l7.78-7.78 2.81-2.81c.8-.78.8-2.07 0-2.86zM5.41 20L4 18.59l7.72-7.72 1.47 1.35L5.41 20z\"/>\n",
              "  </svg>\n",
              "      </button>\n",
              "      \n",
              "  <style>\n",
              "    .colab-df-container {\n",
              "      display:flex;\n",
              "      flex-wrap:wrap;\n",
              "      gap: 12px;\n",
              "    }\n",
              "\n",
              "    .colab-df-convert {\n",
              "      background-color: #E8F0FE;\n",
              "      border: none;\n",
              "      border-radius: 50%;\n",
              "      cursor: pointer;\n",
              "      display: none;\n",
              "      fill: #1967D2;\n",
              "      height: 32px;\n",
              "      padding: 0 0 0 0;\n",
              "      width: 32px;\n",
              "    }\n",
              "\n",
              "    .colab-df-convert:hover {\n",
              "      background-color: #E2EBFA;\n",
              "      box-shadow: 0px 1px 2px rgba(60, 64, 67, 0.3), 0px 1px 3px 1px rgba(60, 64, 67, 0.15);\n",
              "      fill: #174EA6;\n",
              "    }\n",
              "\n",
              "    [theme=dark] .colab-df-convert {\n",
              "      background-color: #3B4455;\n",
              "      fill: #D2E3FC;\n",
              "    }\n",
              "\n",
              "    [theme=dark] .colab-df-convert:hover {\n",
              "      background-color: #434B5C;\n",
              "      box-shadow: 0px 1px 3px 1px rgba(0, 0, 0, 0.15);\n",
              "      filter: drop-shadow(0px 1px 2px rgba(0, 0, 0, 0.3));\n",
              "      fill: #FFFFFF;\n",
              "    }\n",
              "  </style>\n",
              "\n",
              "      <script>\n",
              "        const buttonEl =\n",
              "          document.querySelector('#df-f6a0cc53-5676-4e7b-9544-9e8f1de40f29 button.colab-df-convert');\n",
              "        buttonEl.style.display =\n",
              "          google.colab.kernel.accessAllowed ? 'block' : 'none';\n",
              "\n",
              "        async function convertToInteractive(key) {\n",
              "          const element = document.querySelector('#df-f6a0cc53-5676-4e7b-9544-9e8f1de40f29');\n",
              "          const dataTable =\n",
              "            await google.colab.kernel.invokeFunction('convertToInteractive',\n",
              "                                                     [key], {});\n",
              "          if (!dataTable) return;\n",
              "\n",
              "          const docLinkHtml = 'Like what you see? Visit the ' +\n",
              "            '<a target=\"_blank\" href=https://colab.research.google.com/notebooks/data_table.ipynb>data table notebook</a>'\n",
              "            + ' to learn more about interactive tables.';\n",
              "          element.innerHTML = '';\n",
              "          dataTable['output_type'] = 'display_data';\n",
              "          await google.colab.output.renderOutput(dataTable, element);\n",
              "          const docLink = document.createElement('div');\n",
              "          docLink.innerHTML = docLinkHtml;\n",
              "          element.appendChild(docLink);\n",
              "        }\n",
              "      </script>\n",
              "    </div>\n",
              "  </div>\n",
              "  "
            ]
          },
          "metadata": {},
          "execution_count": 47
        }
      ]
    },
    {
      "cell_type": "markdown",
      "source": [
        "#### 3.a. Create a heatmap of the correlations using the Seaborn `heatmap()` method."
      ],
      "metadata": {
        "id": "N6lIDSD_JwxC"
      }
    },
    {
      "cell_type": "code",
      "source": [
        "import seaborn as sns\n",
        "sns.heatmap(corr)"
      ],
      "metadata": {
        "id": "JtdWhEf-9nwa",
        "colab": {
          "base_uri": "https://localhost:8080/",
          "height": 357
        },
        "outputId": "e1a13b77-7d4b-4a62-ddca-c7559170c082"
      },
      "execution_count": null,
      "outputs": [
        {
          "output_type": "execute_result",
          "data": {
            "text/plain": [
              "<matplotlib.axes._subplots.AxesSubplot at 0x7fe65731de90>"
            ]
          },
          "metadata": {},
          "execution_count": 48
        },
        {
          "output_type": "display_data",
          "data": {
            "text/plain": [
              "<Figure size 432x288 with 2 Axes>"
            ],
            "image/png": "[encoded data removed]"
          },
          "metadata": {
            "needs_background": "light"
          }
        }
      ]
    },
    {
      "cell_type": "markdown",
      "source": [
        "#### 3.b. Based on the correlation analysis, which variables appear to be the most closely associated?\n",
        "```\n",
        "Day_Charge and Day_Mins\n",
        "Eve_Charge and Eve_Mins\n",
        "Night_Charge and Night_Mins\n",
        "Intl_Charge and Intl_Mins\n",
        "```"
      ],
      "metadata": {
        "id": "Kb55AlsDJ-72"
      }
    },
    {
      "cell_type": "markdown",
      "source": [
        "#### 3.c. What could be done to eliminate redundancy in the data?\n",
        "\n",
        "Delete\n",
        "```\n",
        "Day_Charge\n",
        "Eve_Charge\n",
        "Night_Charge\n",
        "Intl_Charge\n",
        "```\n",
        "or delete\n",
        "```\n",
        "Day_Mins\n",
        "Eve_Mins\n",
        "Night_Mins\n",
        "Intl_Mins\n",
        "```\n",
        "from the data set to avoid multicollinearity -- this is the term to describe the case when some of the feature variable are correlated with each other. This must be avoided in order to ensure that only unique information is provided to the predictive model."
      ],
      "metadata": {
        "id": "bGeCASIKKGM4"
      }
    },
    {
      "cell_type": "markdown",
      "source": [
        "### 4. Building the Model"
      ],
      "metadata": {
        "id": "vDASUjDvlM26"
      }
    },
    {
      "cell_type": "markdown",
      "source": [
        "Separate the collection of feature variables from the target variable."
      ],
      "metadata": {
        "id": "nJZH8Lh4KmDD"
      }
    },
    {
      "cell_type": "markdown",
      "source": [
        "#### 4.a. Use the Pandas `drop()` method to remove the `Churn` data from the telco data set and store the results as `features`."
      ],
      "metadata": {
        "id": "3Lhh4g9ZK3F0"
      }
    },
    {
      "cell_type": "code",
      "source": [
        "features=telco.drop(['Churn'], axis=1)"
      ],
      "metadata": {
        "id": "XQB0vssAlz1A"
      },
      "execution_count": null,
      "outputs": []
    },
    {
      "cell_type": "markdown",
      "source": [
        "#### 4.b. Store the telco Churn data as `target`."
      ],
      "metadata": {
        "id": "MdIrI3tFLCna"
      }
    },
    {
      "cell_type": "code",
      "source": [
        "target=telco['Churn']"
      ],
      "metadata": {
        "id": "bpdNoF60AVY5"
      },
      "execution_count": null,
      "outputs": []
    },
    {
      "cell_type": "markdown",
      "source": [
        "#### 4.c. Create the four data sets `X_train, X_test, y_train, y_test` using the `train_test_split` method from `sklearn`."
      ],
      "metadata": {
        "id": "x8N1vw8lLUQr"
      }
    },
    {
      "cell_type": "code",
      "source": [
        "from sklearn.model_selection import train_test_split\n",
        "X_train, X_test, y_train, y_test = train_test_split(features, target, test_size=0.2, random_state=42)\n"
      ],
      "metadata": {
        "id": "M6xb5WwIAZum"
      },
      "execution_count": null,
      "outputs": []
    },
    {
      "cell_type": "code",
      "source": [
        "X_train.head()"
      ],
      "metadata": {
        "id": "uyC5KOqHZ0Fa"
      },
      "execution_count": null,
      "outputs": []
    },
    {
      "cell_type": "code",
      "source": [
        "y_train.head()"
      ],
      "metadata": {
        "id": "EVePx_MEZ2ig"
      },
      "execution_count": null,
      "outputs": []
    },
    {
      "cell_type": "markdown",
      "source": [
        "#### 4.d. Build a Logistic regression model by fitting this model to the X and y training data."
      ],
      "metadata": {
        "id": "7qpiaH3fLn0y"
      }
    },
    {
      "cell_type": "code",
      "source": [
        "# Import LogisticRegression\n",
        "from sklearn.linear_model import LogisticRegression\n",
        "\n",
        "# Instantiate the classifier\n",
        "clf = LogisticRegression()\n",
        "\n",
        "# Fit the classifier\n",
        "clf.fit(X_train, y_train)"
      ],
      "metadata": {
        "id": "UEK43suGA1Qj",
        "colab": {
          "base_uri": "https://localhost:8080/"
        },
        "outputId": "c7ebc027-21c0-42de-b207-7996c3a5fc47"
      },
      "execution_count": null,
      "outputs": [
        {
          "output_type": "execute_result",
          "data": {
            "text/plain": [
              "LogisticRegression()"
            ]
          },
          "metadata": {},
          "execution_count": 52
        }
      ]
    },
    {
      "cell_type": "markdown",
      "source": [
        "#### 4.e. Use the classifier to predict the target values based on the X testing data."
      ],
      "metadata": {
        "id": "5WWxaD21ME6m"
      }
    },
    {
      "cell_type": "code",
      "source": [
        "# Make predictions using the collection of featuress reserved in X_test\n",
        "clf.predict(X_test)"
      ],
      "metadata": {
        "id": "o_ifrKcNMFnU",
        "colab": {
          "base_uri": "https://localhost:8080/"
        },
        "outputId": "ed84a6a2-180d-49f5-a098-30433b9a48e9"
      },
      "execution_count": null,
      "outputs": [
        {
          "output_type": "execute_result",
          "data": {
            "text/plain": [
              "array([0, 0, 0, 0, 0, 0, 0, 0, 0, 0, 0, 0, 0, 0, 0, 1, 0, 0, 0, 0, 0, 0,\n",
              "       0, 0, 0, 0, 0, 0, 0, 0, 0, 0, 0, 0, 0, 0, 0, 0, 0, 0, 0, 0, 0, 0,\n",
              "       0, 0, 0, 0, 0, 0, 0, 0, 0, 0, 0, 0, 0, 0, 0, 0, 0, 0, 0, 0, 0, 0,\n",
              "       0, 0, 0, 0, 0, 0, 0, 0, 0, 0, 0, 0, 0, 0, 0, 0, 0, 0, 0, 0, 0, 0,\n",
              "       0, 0, 0, 0, 0, 0, 0, 0, 0, 0, 0, 0, 0, 0, 0, 0, 0, 0, 0, 0, 0, 0,\n",
              "       0, 0, 0, 0, 0, 0, 0, 0, 0, 0, 0, 0, 0, 0, 0, 0, 0, 0, 0, 0, 0, 0,\n",
              "       0, 0, 0, 0, 0, 0, 0, 0, 0, 0, 0, 0, 0, 1, 0, 0, 0, 0, 0, 0, 0, 0,\n",
              "       0, 0, 0, 0, 0, 0, 0, 0, 0, 0, 0, 0, 0, 0, 0, 0, 0, 0, 0, 0, 0, 0,\n",
              "       0, 0, 0, 0, 0, 0, 0, 0, 0, 0, 0, 0, 0, 0, 0, 0, 0, 0, 0, 0, 0, 0,\n",
              "       0, 0, 0, 0, 0, 0, 0, 0, 0, 0, 0, 0, 0, 0, 0, 0, 0, 0, 0, 0, 0, 0,\n",
              "       0, 0, 0, 0, 0, 0, 0, 0, 0, 0, 0, 0, 0, 0, 0, 0, 0, 0, 0, 0, 0, 0,\n",
              "       0, 0, 0, 0, 0, 0, 0, 0, 0, 0, 0, 0, 0, 0, 0, 0, 0, 0, 0, 0, 0, 1,\n",
              "       0, 0, 0, 0, 0, 0, 0, 0, 0, 0, 0, 0, 0, 0, 0, 0, 0, 0, 0, 0, 0, 0,\n",
              "       0, 0, 0, 0, 0, 0, 0, 0, 0, 0, 0, 0, 0, 0, 0, 0, 0, 0, 0, 0, 0, 0,\n",
              "       0, 0, 0, 0, 0, 0, 0, 0, 0, 0, 0, 0, 0, 0, 0, 0, 0, 0, 0, 0, 0, 0,\n",
              "       0, 0, 0, 0, 0, 0, 0, 0, 0, 0, 0, 0, 0, 0, 0, 0, 0, 0, 0, 0, 0, 0,\n",
              "       0, 0, 0, 0, 0, 0, 0, 0, 0, 0, 0, 0, 0, 0, 0, 0, 0, 0, 0, 0, 0, 0,\n",
              "       0, 0, 0, 0, 0, 0, 0, 0, 0, 0, 0, 0, 0, 0, 0, 0, 0, 0, 0, 0, 0, 0,\n",
              "       0, 0, 0, 0, 0, 0, 0, 0, 0, 0, 0, 0, 0, 0, 0, 0, 0, 0, 0, 0, 0, 0,\n",
              "       0, 0, 0, 0, 0, 0, 0, 0, 0, 0, 0, 0, 0, 0, 0, 0, 0, 0, 0, 1, 0, 0,\n",
              "       0, 0, 0, 0, 0, 0, 0, 0, 0, 0, 0, 0, 0, 0, 0, 0, 0, 0, 0, 0, 0, 0,\n",
              "       0, 0, 0, 0, 0, 0, 0, 0, 0, 0, 0, 0, 0, 0, 0, 0, 0, 0, 0, 0, 0, 0,\n",
              "       0, 0, 0, 0, 0, 0, 0, 0, 0, 0, 0, 0, 0, 0, 0, 0, 0, 0, 0, 0, 0, 0,\n",
              "       0, 0, 0, 0, 0, 0, 0, 0, 0, 0, 0, 0, 0, 0, 0, 0, 0, 0, 0, 0, 0, 0,\n",
              "       0, 0, 0, 0, 0, 0, 1, 0, 0, 0, 0, 0, 0, 0, 0, 0, 0, 0, 0, 0, 0, 0,\n",
              "       0, 0, 0, 0, 0, 0, 0, 0, 0, 0, 0, 0, 0, 0, 0, 0, 0, 0, 0, 0, 1, 0,\n",
              "       0, 0, 0, 0, 0, 0, 0, 0, 0, 0, 0, 0, 0, 0, 0, 0, 0, 0, 0, 0, 0, 0,\n",
              "       0, 0, 0, 0, 0, 0, 0, 0, 0, 0, 0, 0, 0, 0, 0, 0, 0, 0, 0, 0, 0, 0,\n",
              "       0, 0, 0, 0, 0, 0, 0, 0, 0, 0, 0, 0, 0, 0, 0, 0, 0, 0, 0, 0, 0, 0,\n",
              "       0, 0, 0, 0, 0, 0, 0, 0, 0, 0, 0, 0, 0, 0, 0, 0, 0, 0, 0, 0, 0, 0,\n",
              "       0, 0, 0, 0, 0, 0, 0])"
            ]
          },
          "metadata": {},
          "execution_count": 53
        }
      ]
    },
    {
      "cell_type": "markdown",
      "source": [
        "### 5. Model Evaluation"
      ],
      "metadata": {
        "id": "f5_lrjVIl0V5"
      }
    },
    {
      "cell_type": "markdown",
      "source": [
        "#### 5.a. Use the `score()` method to determine the model's accuracy."
      ],
      "metadata": {
        "id": "W-fkfoVnMY9p"
      }
    },
    {
      "cell_type": "code",
      "source": [
        "clf_score=clf.score(X_test, y_test)\n",
        "print(clf_score)"
      ],
      "metadata": {
        "id": "TY1VvELnl5OA",
        "colab": {
          "base_uri": "https://localhost:8080/"
        },
        "outputId": "09982054-45e9-464d-81bd-4e88815484d5"
      },
      "execution_count": null,
      "outputs": [
        {
          "output_type": "stream",
          "name": "stdout",
          "text": [
            "0.8515742128935532\n"
          ]
        }
      ]
    },
    {
      "cell_type": "markdown",
      "source": [
        "#### 5.b. Briefly interpret the score of this classifier.\n",
        "The score measures the accuracy of the model in terms of its ability to correctly predict customer churn.\n",
        "```\n",
        "Accuracy   \n",
        "Total Number of Correct Predictions / Total Number of Data Points\n",
        "```\n",
        "About 85% of the customers were correctly identified as likely to churn when the model was applied to the test data."
      ],
      "metadata": {
        "id": "rMH2Pu76Mn7L"
      }
    }
  ]
}